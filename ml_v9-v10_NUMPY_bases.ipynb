{
 "cells": [
  {
   "cell_type": "markdown",
   "metadata": {},
   "source": [
    "- Progammation orientee objet\n",
    "\n",
    "# PROGRAMMATION ORIENTEE OBJET\n",
    "\n",
    "[video 9](https://www.youtube.com/watch?v=2LdLiCtVUEA)\n",
    "\n",
    "Un __objet__ a des __attributs__ qui le caracterisent et il peut realiser des __actions (methodes)__.\n",
    "\n",
    "Noms, adjectifs, verbes\n",
    "\n",
    "C'est dans une classe, qu'on definit les objets.\n",
    "\n",
    "## La POO en machine learning\n",
    "[numpy.ndarray](https://numpy.org/doc/stable/reference/generated/numpy.ndarray.html)\n",
    "\n",
    "n dimensions array\n",
    "\n",
    "tableau a n dimensions\n",
    "\n",
    "__constructeur : la classe qui instancie l'objet__"
   ]
  },
  {
   "cell_type": "code",
   "execution_count": 2,
   "metadata": {},
   "outputs": [],
   "source": [
    "import numpy as np\n",
    "\n",
    "tableau = np.array([1,2,3])"
   ]
  },
  {
   "cell_type": "code",
   "execution_count": 3,
   "metadata": {},
   "outputs": [
    {
     "name": "stdout",
     "output_type": "stream",
     "text": [
      "3\n"
     ]
    }
   ],
   "source": [
    "print(tableau.size)"
   ]
  },
  {
   "cell_type": "markdown",
   "metadata": {},
   "source": [
    "# NUMPY N-DIM / ML\n",
    "\n",
    "[video 10](https://www.youtube.com/watch?v=NzDQTrqsxas)\n",
    "\n",
    "Tableau numpy a 1 dimension equivalent a une liste, mais plus rapide et pratique pour les calculs mathematiques\n",
    "Tableau numpy a 2 dimension ; les lignes sont les valeurs du dataset, et les colonnes, les variables et _features_\n",
    "\n",
    "\n",
    "\n",
    "Dans un tableau a 2 dimensions on peut aussi stocker les pixels d'une image (valeur en noir et blanc).\n",
    "\n",
    "Si on veut representer une image en couleur, alors on peut la decomposer en trois tableaux pour les valeurs de vert, bleu et rouge. (3D array)\n",
    "\n",
    "## Attributs (extrait)\n",
    "### ndarray.shape\n",
    "[doc](https://numpy.org/doc/stable/reference/generated/numpy.ndarray.shape.html)\n",
    "- _ndarray.shape_ : la forme du tableau (ligne, colonne, profondeur) = Tuple (immutable !)\n",
    "\n",
    "Exemple : \n",
    "- si ndim = 1 pour 2 ligne, alors shape = (2)\n",
    "- si ndim = 2 pour 2 lignes et 3 colonnes, alors shape = (2, 3)\n",
    "- etc.\n",
    "\n",
    "## Methodes\n",
    "### Constructeurs"
   ]
  },
  {
   "cell_type": "code",
   "execution_count": 2,
   "metadata": {},
   "outputs": [
    {
     "name": "stdout",
     "output_type": "stream",
     "text": [
      "1\n",
      "(3,)\n",
      "3\n"
     ]
    }
   ],
   "source": [
    "import numpy as np\n",
    "\n",
    "tableau = np.array([1, 2, 3])\n",
    "print(tableau.ndim)\n",
    "print(tableau.shape)\n",
    "print(tableau.size)"
   ]
  },
  {
   "cell_type": "code",
   "execution_count": 8,
   "metadata": {},
   "outputs": [
    {
     "data": {
      "text/plain": [
       "array([[0., 0., 0.],\n",
       "       [0., 0., 0.]])"
      ]
     },
     "execution_count": 8,
     "metadata": {},
     "output_type": "execute_result"
    }
   ],
   "source": [
    "# Initie un tableau de 2 lignes et trois colonne de 0 flottants\n",
    "B = np.zeros(shape=(2,3), dtype=float)\n",
    "B"
   ]
  },
  {
   "cell_type": "code",
   "execution_count": 11,
   "metadata": {},
   "outputs": [
    {
     "data": {
      "text/plain": [
       "9"
      ]
     },
     "execution_count": 11,
     "metadata": {},
     "output_type": "execute_result"
    }
   ],
   "source": [
    "B = np.ones(shape=(3,3), dtype=float)\n",
    "B.size"
   ]
  },
  {
   "cell_type": "code",
   "execution_count": 12,
   "metadata": {},
   "outputs": [
    {
     "data": {
      "text/plain": [
       "array([[9, 9, 9],\n",
       "       [9, 9, 9],\n",
       "       [9, 9, 9]])"
      ]
     },
     "execution_count": 12,
     "metadata": {},
     "output_type": "execute_result"
    }
   ],
   "source": [
    "B = np.full(shape=(3,3), fill_value=9)\n",
    "B"
   ]
  },
  {
   "cell_type": "markdown",
   "metadata": {},
   "source": [
    "[randn manual](https://numpy.org/doc/stable/reference/random/generated/numpy.random.randn.html)\n",
    "\n",
    "Retourne des nombres aleatoires selon la distribution normale (Gaussienne) centree en 0"
   ]
  },
  {
   "cell_type": "code",
   "execution_count": 23,
   "metadata": {},
   "outputs": [
    {
     "data": {
      "text/plain": [
       "array([[ 1.76405235,  0.40015721,  0.97873798,  2.2408932 ],\n",
       "       [ 1.86755799, -0.97727788,  0.95008842, -0.15135721],\n",
       "       [-0.10321885,  0.4105985 ,  0.14404357,  1.45427351]])"
      ]
     },
     "execution_count": 23,
     "metadata": {},
     "output_type": "execute_result"
    }
   ],
   "source": [
    "np.random.seed(0) #le nombre a l'interieur permet juste de fixer une distribution\n",
    "# Genere de maniere aleatoire les nombres, sauf si \"seede\"\n",
    "C = np.random.randn(3,4)\n",
    "C"
   ]
  },
  {
   "cell_type": "code",
   "execution_count": 27,
   "metadata": {},
   "outputs": [
    {
     "data": {
      "text/plain": [
       "array([[0.56804456, 0.92559664, 0.07103606, 0.0871293 ],\n",
       "       [0.0202184 , 0.83261985, 0.77815675, 0.87001215],\n",
       "       [0.97861834, 0.79915856, 0.46147936, 0.78052918]])"
      ]
     },
     "execution_count": 27,
     "metadata": {},
     "output_type": "execute_result"
    }
   ],
   "source": [
    "# Genere un tableau de nombre aleatoire sans distribution particuliere\n",
    "test = np.random.random_sample((3,4))\n",
    "test"
   ]
  },
  {
   "cell_type": "code",
   "execution_count": 30,
   "metadata": {},
   "outputs": [
    {
     "data": {
      "text/plain": [
       "array([-2.5       ,  1.94444444,  1.94444444, -3.05555556, -0.83333333,\n",
       "        0.83333333, -1.38888889, -1.94444444,  0.83333333, -1.94444444])"
      ]
     },
     "execution_count": 30,
     "metadata": {},
     "output_type": "execute_result"
    }
   ],
   "source": [
    "# random integers\n",
    "# Pour echantillonner avec N points, un espace compris entre a et b :\n",
    "# a + (b - a) * (np.random.random_integers(N) - 1) / (N - 1.)\n",
    "-2.5 + (2.5 - (-2.5)) * (np.random.randint(10,size=10)-1) / (10-1.)"
   ]
  },
  {
   "cell_type": "code",
   "execution_count": 48,
   "metadata": {},
   "outputs": [
    {
     "data": {
      "text/plain": [
       "array(['fanta', 'gilles'], dtype='<U6')"
      ]
     },
     "execution_count": 48,
     "metadata": {},
     "output_type": "execute_result"
    }
   ],
   "source": [
    "list_tst = ['michel', 'gilles', 'marta', 'fanta']\n",
    "\n",
    "# Choisi deux elements de maniere aleatoire dans la liste\n",
    "# replace = defini si l'element tire au hasard, reste un choix possible pour le tour suivant\n",
    "np.random.choice(list_tst, size=2, replace=False)"
   ]
  },
  {
   "cell_type": "code",
   "execution_count": 54,
   "metadata": {},
   "outputs": [
    {
     "data": {
      "text/plain": [
       "['gilles', 'marta', 'fanta', 'michel']"
      ]
     },
     "execution_count": 54,
     "metadata": {},
     "output_type": "execute_result"
    }
   ],
   "source": [
    "np.random.shuffle(list_tst)\n",
    "list_tst"
   ]
  },
  {
   "cell_type": "code",
   "execution_count": 55,
   "metadata": {},
   "outputs": [
    {
     "data": {
      "text/plain": [
       "array([[1., 0., 0., 0.],\n",
       "       [0., 1., 0., 0.],\n",
       "       [0., 0., 1., 0.],\n",
       "       [0., 0., 0., 1.]])"
      ]
     },
     "execution_count": 55,
     "metadata": {},
     "output_type": "execute_result"
    }
   ],
   "source": [
    "# Creer une matrice identite\n",
    "np.eye(4)"
   ]
  },
  {
   "cell_type": "code",
   "execution_count": 59,
   "metadata": {},
   "outputs": [
    {
     "data": {
      "text/plain": [
       "array([ 1.        ,  1.47368421,  1.94736842,  2.42105263,  2.89473684,\n",
       "        3.36842105,  3.84210526,  4.31578947,  4.78947368,  5.26315789,\n",
       "        5.73684211,  6.21052632,  6.68421053,  7.15789474,  7.63157895,\n",
       "        8.10526316,  8.57894737,  9.05263158,  9.52631579, 10.        ])"
      ]
     },
     "execution_count": 59,
     "metadata": {},
     "output_type": "execute_result"
    }
   ],
   "source": [
    "np.linspace(1, 10, 20)"
   ]
  },
  {
   "cell_type": "code",
   "execution_count": 70,
   "metadata": {},
   "outputs": [
    {
     "name": "stdout",
     "output_type": "stream",
     "text": [
      "[0 1 2 3 4 5 6 7 8 9]\n",
      "[0 1 2 3 4 5 6 7 8 9]\n"
     ]
    }
   ],
   "source": [
    "D = np.array(np.arange(0, 10, 1), dtype=int)\n",
    "print(D)\n",
    "D = np.arange(0, 10, 1, dtype=int)\n",
    "print(D)\n"
   ]
  },
  {
   "cell_type": "code",
   "execution_count": 71,
   "metadata": {},
   "outputs": [
    {
     "name": "stdout",
     "output_type": "stream",
     "text": [
      "[0.  0.5 1.  1.5 2.  2.5 3.  3.5 4.  4.5 5.  5.5 6.  6.5 7.  7.5 8.  8.5\n",
      " 9.  9.5]\n"
     ]
    }
   ],
   "source": [
    "D = np.arange(0, 10, 0.5, dtype = np.float16)\n",
    "print(D)"
   ]
  },
  {
   "cell_type": "code",
   "execution_count": 72,
   "metadata": {},
   "outputs": [
    {
     "name": "stdout",
     "output_type": "stream",
     "text": [
      "[0.  0.5 1.  1.5 2.  2.5 3.  3.5 4.  4.5 5.  5.5 6.  6.5 7.  7.5 8.  8.5\n",
      " 9.  9.5]\n"
     ]
    }
   ],
   "source": [
    "D = np.arange(0, 10, 0.5, dtype = np.float64)\n",
    "print(D)"
   ]
  },
  {
   "cell_type": "markdown",
   "metadata": {},
   "source": [
    "#### dtype\n",
    "\n",
    "[dtype manual](https://numpy.org/doc/stable/reference/arrays.dtypes.html)\n",
    "\n",
    "La taille du type depend du compromis precision/rapidite du programme que l'on souhaite realiser"
   ]
  },
  {
   "cell_type": "markdown",
   "metadata": {},
   "source": [
    "### Manipuler les tableaux numpy"
   ]
  },
  {
   "cell_type": "code",
   "execution_count": 103,
   "metadata": {},
   "outputs": [],
   "source": [
    "A = np.zeros((3, 2))\n",
    "B = np.ones((3,2))"
   ]
  },
  {
   "cell_type": "markdown",
   "metadata": {},
   "source": [
    "#### Concatener : hstack (horizontal) & vstack(vertical)"
   ]
  },
  {
   "cell_type": "code",
   "execution_count": 104,
   "metadata": {},
   "outputs": [
    {
     "name": "stdout",
     "output_type": "stream",
     "text": [
      "(3, 4)\n",
      "(3, 4)\n"
     ]
    }
   ],
   "source": [
    "C = np.hstack((A, B))\n",
    "print(C.shape)\n",
    "D = np.concatenate((A, B), axis=1)\n",
    "print(D.shape)"
   ]
  },
  {
   "cell_type": "code",
   "execution_count": 105,
   "metadata": {},
   "outputs": [
    {
     "name": "stdout",
     "output_type": "stream",
     "text": [
      "(6, 2)\n",
      "(6, 2)\n"
     ]
    }
   ],
   "source": [
    "C = np.vstack((A, B))\n",
    "print(C.shape)\n",
    "D = np.concatenate((A, B), axis=0)\n",
    "print(D.shape)"
   ]
  },
  {
   "cell_type": "markdown",
   "metadata": {},
   "source": [
    "#### Reshape (if size initial == size final)"
   ]
  },
  {
   "cell_type": "code",
   "execution_count": 106,
   "metadata": {},
   "outputs": [
    {
     "name": "stdout",
     "output_type": "stream",
     "text": [
      "12\n",
      "(3, 4)\n"
     ]
    },
    {
     "data": {
      "text/plain": [
       "array([[0., 0., 0., 0.],\n",
       "       [0., 0., 1., 1.],\n",
       "       [1., 1., 1., 1.]])"
      ]
     },
     "execution_count": 106,
     "metadata": {},
     "output_type": "execute_result"
    }
   ],
   "source": [
    "print(D.size)\n",
    "E = D.reshape((3,4)) # shape est un tuple\n",
    "print(E.shape)\n",
    "E"
   ]
  },
  {
   "cell_type": "code",
   "execution_count": 107,
   "metadata": {},
   "outputs": [
    {
     "data": {
      "text/plain": [
       "(3, 1)"
      ]
     },
     "execution_count": 107,
     "metadata": {},
     "output_type": "execute_result"
    }
   ],
   "source": [
    "A = np.array([1,2,3]) # retourn un tableau de shape (3,) \n",
    "# Mais cette commande retourne une erreur : print(A.shape[1])\n",
    "# On veut donc rendre obvious qu'il y a une colonne pour eviter les bugs\n",
    "A = A.reshape((A.shape[0], 1))\n",
    "A.shape"
   ]
  },
  {
   "cell_type": "code",
   "execution_count": 108,
   "metadata": {},
   "outputs": [
    {
     "data": {
      "text/plain": [
       "(3,)"
      ]
     },
     "execution_count": 108,
     "metadata": {},
     "output_type": "execute_result"
    }
   ],
   "source": [
    "# Parfois ce \"1\" obvious peut creer des problemes, notamment en visualisation de donnees\n",
    "# Il est recommande pour le calcul matriciel, mais deconseille pour la visualisation de donnees\n",
    "A = A.squeeze() # Fait disparaitre toutes les dimensions ou il y a simplement un 1\n",
    "A.shape"
   ]
  },
  {
   "cell_type": "code",
   "execution_count": 109,
   "metadata": {},
   "outputs": [
    {
     "name": "stdout",
     "output_type": "stream",
     "text": [
      "(6, 2)\n",
      "D.ravel()\n",
      "(12,)\n"
     ]
    }
   ],
   "source": [
    "# Methode ravel permet d'applatir un table a ni dimension\n",
    "print(D.shape)\n",
    "D = D.ravel()\n",
    "print(\"D.ravel()\")\n",
    "print(D.shape)"
   ]
  },
  {
   "cell_type": "markdown",
   "metadata": {},
   "source": [
    "# Exercice"
   ]
  },
  {
   "cell_type": "code",
   "execution_count": 129,
   "metadata": {},
   "outputs": [],
   "source": [
    "def initialisation_mbr (m, n) :\n",
    "    # m = nombre de lignes\n",
    "    # n = nombre de colonnes\n",
    "    # retourne une matrice aleatoire (m, n+1)\n",
    "    # Avec une colonne 1 remplie de 1 tout a droite\n",
    "    # Indice : il prefere la fonction randn()\n",
    "    # randmat = np.random.random_sample(size=(m,n+1))\n",
    "    randmat = np.random.randn(m,n+1)\n",
    "    print(randmat)\n",
    "    solomat = np.array([1 for i in range(m)], dtype = int)\n",
    "    solomat = solomat.reshape((solomat.shape[0],1))\n",
    "    print(solomat)\n",
    "    # return np.concatenate((randmat,solomat), axis=0)\n",
    "    return np.concatenate((randmat, solomat), axis=1)\n",
    "    # possibilite de compresser le code en ne declarant pas de variable solomat\n",
    "\n",
    "def initialisation (m, n) :\n",
    "    randmat = np.random.randn(m,n+1)\n",
    "    return np.concatenate((randmat, np.ones((randmat.shape[0],1))), axis=1)\n",
    "    # possibilite de compresser le code en ne declarant pas de variable solomat\n",
    "\n"
   ]
  },
  {
   "cell_type": "code",
   "execution_count": 130,
   "metadata": {},
   "outputs": [
    {
     "name": "stdout",
     "output_type": "stream",
     "text": [
      "[[-1.270485    0.96939671 -1.17312341  1.94362119]\n",
      " [-0.41361898 -0.74745481  1.92294203  1.48051479]]\n",
      "[[1]\n",
      " [1]]\n",
      "[[-1.270485    0.96939671 -1.17312341  1.94362119  1.        ]\n",
      " [-0.41361898 -0.74745481  1.92294203  1.48051479  1.        ]]\n"
     ]
    }
   ],
   "source": [
    "A = initialisation(2,3)\n",
    "print(A)\n",
    "# Note : les colonnes sont converties en float dans le nouveau tableau"
   ]
  },
  {
   "cell_type": "code",
   "execution_count": null,
   "metadata": {},
   "outputs": [],
   "source": []
  }
 ],
 "metadata": {
  "interpreter": {
   "hash": "0a5331cb55ab7294c1c0f98062dab8e6b66a268d94e6b66c26b729f5ce3bba9e"
  },
  "kernelspec": {
   "display_name": "Python 3.8.5 ('base')",
   "language": "python",
   "name": "python3"
  },
  "language_info": {
   "codemirror_mode": {
    "name": "ipython",
    "version": 3
   },
   "file_extension": ".py",
   "mimetype": "text/x-python",
   "name": "python",
   "nbconvert_exporter": "python",
   "pygments_lexer": "ipython3",
   "version": "3.8.5"
  },
  "orig_nbformat": 4
 },
 "nbformat": 4,
 "nbformat_minor": 2
}
