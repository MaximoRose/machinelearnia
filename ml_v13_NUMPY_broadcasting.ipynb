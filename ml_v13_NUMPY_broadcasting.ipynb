{
 "cells": [
  {
   "cell_type": "markdown",
   "metadata": {},
   "source": [
    "- Somme matricielle et boradcasting"
   ]
  },
  {
   "cell_type": "markdown",
   "metadata": {},
   "source": [
    "# NUMPY BROADCASTIN\n",
    "\n",
    "__Attention : ca peut etre dangereux__\n",
    "\n",
    "[video 13](https://www.youtube.com/watch?v=RwFiNlL4Q8g)\n",
    "\n",
    "Permet de faire des calcul entre un tableau A et un tableau B de facon tres rapide.\n",
    "\n",
    "- En C, on devrait faire des boucles for, cellules par cellules\n",
    "- Avec numpy, il suffit d'ecrire A + B (__il faut que les tableaux aient les memes dimension = ce sont des matrices)"
   ]
  },
  {
   "cell_type": "code",
   "execution_count": 4,
   "metadata": {},
   "outputs": [
    {
     "data": {
      "text/plain": [
       "array([[ 6.,  1.,  4.],\n",
       "       [ 4.,  8., 10.]])"
      ]
     },
     "execution_count": 4,
     "metadata": {},
     "output_type": "execute_result"
    }
   ],
   "source": [
    "import numpy as np\n",
    "\n",
    "np.random.seed(0)\n",
    "A = np.random.randint(0, 10, (2, 3))\n",
    "B = np.ones((2, 3))\n",
    "A + B "
   ]
  },
  {
   "cell_type": "markdown",
   "metadata": {},
   "source": [
    "Pour faire des calcules entre tableaux qui n'ont pas la meme dimension, on peut etre certaines dimensions que n'auraient pas nos tableaux\n",
    "\n",
    "= BROADCASTING\n",
    "\n",
    "(qui se fait automatiquement en sommant une matrice a un scalaire)"
   ]
  },
  {
   "cell_type": "code",
   "execution_count": 5,
   "metadata": {},
   "outputs": [
    {
     "data": {
      "text/plain": [
       "array([[ 6.,  1.,  4.],\n",
       "       [ 4.,  8., 10.]])"
      ]
     },
     "execution_count": 5,
     "metadata": {},
     "output_type": "execute_result"
    }
   ],
   "source": [
    "B = np.ones((2,1))\n",
    "A + B"
   ]
  },
  {
   "cell_type": "markdown",
   "metadata": {},
   "source": [
    "Ca marche aussi avec un vecteur, car les colonnes de C ont ete etendues pour couvrir la taille du tableau A"
   ]
  },
  {
   "cell_type": "code",
   "execution_count": 6,
   "metadata": {},
   "outputs": [
    {
     "ename": "ValueError",
     "evalue": "operands could not be broadcast together with shapes (2,3) (4,1) ",
     "output_type": "error",
     "traceback": [
      "\u001b[0;31m---------------------------------------------------------------------------\u001b[0m",
      "\u001b[0;31mValueError\u001b[0m                                Traceback (most recent call last)",
      "\u001b[0;32m<ipython-input-6-ed0db6a14751>\u001b[0m in \u001b[0;36m<module>\u001b[0;34m\u001b[0m\n\u001b[1;32m      1\u001b[0m \u001b[0mD\u001b[0m \u001b[0;34m=\u001b[0m \u001b[0mnp\u001b[0m\u001b[0;34m.\u001b[0m\u001b[0mones\u001b[0m\u001b[0;34m(\u001b[0m\u001b[0;34m(\u001b[0m\u001b[0;36m4\u001b[0m\u001b[0;34m,\u001b[0m\u001b[0;36m1\u001b[0m\u001b[0;34m)\u001b[0m\u001b[0;34m)\u001b[0m\u001b[0;34m\u001b[0m\u001b[0;34m\u001b[0m\u001b[0m\n\u001b[0;32m----> 2\u001b[0;31m \u001b[0mA\u001b[0m \u001b[0;34m+\u001b[0m \u001b[0mD\u001b[0m\u001b[0;34m\u001b[0m\u001b[0;34m\u001b[0m\u001b[0m\n\u001b[0m",
      "\u001b[0;31mValueError\u001b[0m: operands could not be broadcast together with shapes (2,3) (4,1) "
     ]
    }
   ],
   "source": [
    "B = np.ones((4,1))\n",
    "A + B"
   ]
  },
  {
   "cell_type": "markdown",
   "metadata": {},
   "source": [
    "__Ne fonctionne pas si le nombre de colonne ne correspond pas entre nos deux matrices__\n",
    "\n",
    "A et B doivent avoir le meme nombre de dimensions (mm nb lignes et mm nb colonne, ideal), ou une dimension respective egale a 1 (une mm dimension)\n",
    "\n",
    "Fonctionne aussi pour deux vecteurs :"
   ]
  },
  {
   "cell_type": "code",
   "execution_count": 8,
   "metadata": {},
   "outputs": [
    {
     "data": {
      "text/plain": [
       "array([[2., 2., 2.],\n",
       "       [2., 2., 2.],\n",
       "       [2., 2., 2.],\n",
       "       [2., 2., 2.]])"
      ]
     },
     "execution_count": 8,
     "metadata": {},
     "output_type": "execute_result"
    }
   ],
   "source": [
    "A = np.ones((4,1))\n",
    "B = np.ones((1,3)) # Attention c'est le meme resultats que quand B.shape() = (3,)\n",
    "A+B\n",
    "# quand on travaille avec des matrices a dimensions incompletes, on pourrait avoir des operations de broadcasting completement inentionnonee"
   ]
  },
  {
   "cell_type": "markdown",
   "metadata": {},
   "source": [
    "__Toujours verifier les dimensions de nos tableaux et utiliser la fonction reshape pour eviter les broadcastings involontaires. Ca pourrait fausser tous nos resultats__"
   ]
  },
  {
   "cell_type": "markdown",
   "metadata": {},
   "source": [
    "# Synthese Numpy\n",
    "\n",
    "- Constructeurs : nparray, 0s, 1s rands\n",
    "- Manipulations : A.reshape(shape), np.concatenate((A,B), axis=0), concatenate() // reshape quand les dimensions sont incompletes\n",
    "- Maths : max(), min(), mean(), argmin(), argmax(), __argsort()__\n",
    "- Boolean indexing\n",
    "- Boradcasting\n",
    "\n",
    "__Preferer scipy pour l'utilisation de fonctions mathematiques avancees__"
   ]
  }
 ],
 "metadata": {
  "interpreter": {
   "hash": "0a5331cb55ab7294c1c0f98062dab8e6b66a268d94e6b66c26b729f5ce3bba9e"
  },
  "kernelspec": {
   "display_name": "Python 3.8.5 ('base')",
   "language": "python",
   "name": "python3"
  },
  "language_info": {
   "codemirror_mode": {
    "name": "ipython",
    "version": 3
   },
   "file_extension": ".py",
   "mimetype": "text/x-python",
   "name": "python",
   "nbconvert_exporter": "python",
   "pygments_lexer": "ipython3",
   "version": "3.8.5"
  },
  "orig_nbformat": 4
 },
 "nbformat": 4,
 "nbformat_minor": 2
}
