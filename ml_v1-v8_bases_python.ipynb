{
 "cells": [
  {
   "cell_type": "markdown",
   "metadata": {},
   "source": [
    "- Liste comprehension\n",
    "- Dictionnaire comprehension\n",
    "- Traitement de fichier\n",
    "- Remplissage de string \n",
    "- Modules et Packages"
   ]
  },
  {
   "cell_type": "markdown",
   "metadata": {},
   "source": [
    "# LISTES"
   ]
  },
  {
   "cell_type": "code",
   "execution_count": 1,
   "metadata": {},
   "outputs": [
    {
     "name": "stdout",
     "output_type": "stream",
     "text": [
      "['Paris', 'Berlin', 'Rome', 'Madrid', 'Dublin']\n"
     ]
    }
   ],
   "source": [
    "villes = ['Paris', 'Berlin', 'Rome', 'Madrid']\n",
    "villes.append('Dublin')\n",
    "print(villes)"
   ]
  },
  {
   "cell_type": "code",
   "execution_count": 2,
   "metadata": {},
   "outputs": [
    {
     "name": "stdout",
     "output_type": "stream",
     "text": [
      "['Paris', 'Berlin', 'Bruxelles', 'Rome', 'Madrid', 'Dublin']\n"
     ]
    }
   ],
   "source": [
    "villes.insert(2, 'Bruxelles')\n",
    "print(villes)"
   ]
  },
  {
   "cell_type": "code",
   "execution_count": 3,
   "metadata": {},
   "outputs": [
    {
     "name": "stdout",
     "output_type": "stream",
     "text": [
      "['Paris', 'Berlin', 'Bruxelles', 'Rome', 'Madrid', 'Dublin', 'Amsterdam', 'Londres']\n"
     ]
    }
   ],
   "source": [
    "villes2 = ['Amsterdam', 'Londres']\n",
    "villes.extend(villes2)\n",
    "print(villes)"
   ]
  },
  {
   "cell_type": "code",
   "execution_count": 4,
   "metadata": {},
   "outputs": [
    {
     "data": {
      "text/plain": [
       "8"
      ]
     },
     "execution_count": 4,
     "metadata": {},
     "output_type": "execute_result"
    }
   ],
   "source": [
    "len(villes)"
   ]
  },
  {
   "cell_type": "code",
   "execution_count": 5,
   "metadata": {},
   "outputs": [
    {
     "data": {
      "text/plain": [
       "['Amsterdam',\n",
       " 'Berlin',\n",
       " 'Bruxelles',\n",
       " 'Dublin',\n",
       " 'Londres',\n",
       " 'Madrid',\n",
       " 'Paris',\n",
       " 'Rome']"
      ]
     },
     "execution_count": 5,
     "metadata": {},
     "output_type": "execute_result"
    }
   ],
   "source": [
    "villes.sort()\n",
    "villes"
   ]
  },
  {
   "cell_type": "code",
   "execution_count": 6,
   "metadata": {},
   "outputs": [
    {
     "data": {
      "text/plain": [
       "['Rome',\n",
       " 'Paris',\n",
       " 'Madrid',\n",
       " 'Londres',\n",
       " 'Dublin',\n",
       " 'Bruxelles',\n",
       " 'Berlin',\n",
       " 'Amsterdam']"
      ]
     },
     "execution_count": 6,
     "metadata": {},
     "output_type": "execute_result"
    }
   ],
   "source": [
    "villes.sort(reverse=True)\n",
    "villes"
   ]
  },
  {
   "cell_type": "code",
   "execution_count": 7,
   "metadata": {},
   "outputs": [
    {
     "data": {
      "text/plain": [
       "1"
      ]
     },
     "execution_count": 7,
     "metadata": {},
     "output_type": "execute_result"
    }
   ],
   "source": [
    "villes.count('Paris')"
   ]
  },
  {
   "cell_type": "code",
   "execution_count": 8,
   "metadata": {},
   "outputs": [
    {
     "data": {
      "text/plain": [
       "2"
      ]
     },
     "execution_count": 8,
     "metadata": {},
     "output_type": "execute_result"
    }
   ],
   "source": [
    "villes.append('Paris')\n",
    "villes.count('Paris')"
   ]
  },
  {
   "cell_type": "code",
   "execution_count": 9,
   "metadata": {},
   "outputs": [],
   "source": [
    "# villes.clear()"
   ]
  },
  {
   "cell_type": "code",
   "execution_count": 10,
   "metadata": {},
   "outputs": [
    {
     "name": "stdout",
     "output_type": "stream",
     "text": [
      "Yes\n"
     ]
    }
   ],
   "source": [
    "if 'Paris' in villes :\n",
    "    print('Yes')"
   ]
  },
  {
   "cell_type": "code",
   "execution_count": 11,
   "metadata": {},
   "outputs": [
    {
     "name": "stdout",
     "output_type": "stream",
     "text": [
      "Rome\n",
      "Paris\n",
      "Madrid\n",
      "Londres\n",
      "Dublin\n",
      "Bruxelles\n",
      "Berlin\n",
      "Amsterdam\n",
      "Paris\n"
     ]
    }
   ],
   "source": [
    "for i in villes :\n",
    "    print(i)"
   ]
  },
  {
   "cell_type": "code",
   "execution_count": 12,
   "metadata": {},
   "outputs": [
    {
     "name": "stdout",
     "output_type": "stream",
     "text": [
      "(0, 'Rome')\n",
      "(1, 'Paris')\n",
      "(2, 'Madrid')\n",
      "(3, 'Londres')\n",
      "(4, 'Dublin')\n",
      "(5, 'Bruxelles')\n",
      "(6, 'Berlin')\n",
      "(7, 'Amsterdam')\n",
      "(8, 'Paris')\n"
     ]
    }
   ],
   "source": [
    "for i in enumerate(villes) :\n",
    "    print(i)"
   ]
  },
  {
   "cell_type": "code",
   "execution_count": 13,
   "metadata": {},
   "outputs": [
    {
     "name": "stdout",
     "output_type": "stream",
     "text": [
      "Rome 1\n",
      "Paris 2\n",
      "Madrid 3\n",
      "Londres 4\n",
      "Dublin 5\n"
     ]
    }
   ],
   "source": [
    "liste_2 = [1,2,3,4,5]\n",
    "\n",
    "# La boucle s'arrete avec la liste la plus courte\n",
    "for a, b in zip(villes, liste_2) :\n",
    "    print(a,b)"
   ]
  },
  {
   "cell_type": "code",
   "execution_count": null,
   "metadata": {},
   "outputs": [],
   "source": []
  },
  {
   "cell_type": "markdown",
   "metadata": {},
   "source": [
    "# DICTIONNAIRES"
   ]
  },
  {
   "cell_type": "code",
   "execution_count": 14,
   "metadata": {},
   "outputs": [],
   "source": [
    "dicoenfr = {\n",
    "    \"chien\" : \"dog\",\n",
    "    \"oiseau\" : \"bird\"\n",
    "}\n",
    "inventaire = {\n",
    "    \"poires\" : 4300,\n",
    "    \"cerises\" : 2400\n",
    "}"
   ]
  },
  {
   "cell_type": "markdown",
   "metadata": {},
   "source": [
    "En machine learning, certaines personnes utilisent des dictionnaires pour stocker les parametres de leurs reseaux de neurones"
   ]
  },
  {
   "cell_type": "code",
   "execution_count": 15,
   "metadata": {},
   "outputs": [],
   "source": [
    "import numpy as np  \n",
    "\n",
    "parametres = {\n",
    "    \"W1\" : np.random.rand(10 , 100),\n",
    "    \"b1\" : np.random.rand(10, 1),\n",
    "    \"W2\" : np.random.rand(10, 10),\n",
    "    \"b2\" : np.random.rand(10, 1)\n",
    "}"
   ]
  },
  {
   "cell_type": "code",
   "execution_count": 16,
   "metadata": {},
   "outputs": [
    {
     "data": {
      "text/plain": [
       "dict_values([4300, 2400])"
      ]
     },
     "execution_count": 16,
     "metadata": {},
     "output_type": "execute_result"
    }
   ],
   "source": [
    "inventaire.values()"
   ]
  },
  {
   "cell_type": "code",
   "execution_count": 17,
   "metadata": {},
   "outputs": [
    {
     "data": {
      "text/plain": [
       "dict_keys(['poires', 'cerises'])"
      ]
     },
     "execution_count": 17,
     "metadata": {},
     "output_type": "execute_result"
    }
   ],
   "source": [
    "inventaire.keys()"
   ]
  },
  {
   "cell_type": "code",
   "execution_count": 18,
   "metadata": {},
   "outputs": [
    {
     "data": {
      "text/plain": [
       "2"
      ]
     },
     "execution_count": 18,
     "metadata": {},
     "output_type": "execute_result"
    }
   ],
   "source": [
    "len(inventaire)"
   ]
  },
  {
   "cell_type": "code",
   "execution_count": 19,
   "metadata": {},
   "outputs": [
    {
     "name": "stdout",
     "output_type": "stream",
     "text": [
      "{'poires': 4300, 'cerises': 2400, 'pommes': 690}\n"
     ]
    }
   ],
   "source": [
    "inventaire[\"pommes\"] = 690\n",
    "print(inventaire)"
   ]
  },
  {
   "cell_type": "markdown",
   "metadata": {},
   "source": [
    "__Un dictionnaire n'est pas indexe__"
   ]
  },
  {
   "cell_type": "code",
   "execution_count": 20,
   "metadata": {},
   "outputs": [
    {
     "name": "stdout",
     "output_type": "stream",
     "text": [
      "None\n"
     ]
    }
   ],
   "source": [
    "# Au lieu de faire des try catch avec des keyerror\n",
    "print(inventaire.get(\"peches\"))"
   ]
  },
  {
   "cell_type": "code",
   "execution_count": 21,
   "metadata": {},
   "outputs": [
    {
     "name": "stdout",
     "output_type": "stream",
     "text": [
      "0\n"
     ]
    }
   ],
   "source": [
    "# Pour retourner une valeur par defaut, quand on ne trouve pas :\n",
    "print(inventaire.get(\"peches\", 0))"
   ]
  },
  {
   "cell_type": "code",
   "execution_count": 22,
   "metadata": {},
   "outputs": [
    {
     "data": {
      "text/plain": [
       "{'Rome': 'Rien a voir, frerot',\n",
       " 'Paris': 'Rien a voir, frerot',\n",
       " 'Madrid': 'Rien a voir, frerot',\n",
       " 'Londres': 'Rien a voir, frerot',\n",
       " 'Dublin': 'Rien a voir, frerot',\n",
       " 'Bruxelles': 'Rien a voir, frerot',\n",
       " 'Berlin': 'Rien a voir, frerot',\n",
       " 'Amsterdam': 'Rien a voir, frerot'}"
      ]
     },
     "execution_count": 22,
     "metadata": {},
     "output_type": "execute_result"
    }
   ],
   "source": [
    "# Pour rechercher dans un dictionnaire a partir d'une liste de termes : \n",
    "inventaire.fromkeys(villes, 'Rien a voir, frerot')"
   ]
  },
  {
   "cell_type": "code",
   "execution_count": 23,
   "metadata": {},
   "outputs": [
    {
     "data": {
      "text/plain": [
       "2400"
      ]
     },
     "execution_count": 23,
     "metadata": {},
     "output_type": "execute_result"
    }
   ],
   "source": [
    "nbcerise = inventaire.pop(\"cerises\")\n",
    "nbcerise"
   ]
  },
  {
   "cell_type": "code",
   "execution_count": 24,
   "metadata": {},
   "outputs": [
    {
     "name": "stdout",
     "output_type": "stream",
     "text": [
      "poires\n",
      "pommes\n",
      "4300\n",
      "690\n",
      "poires 4300\n",
      "pommes 690\n"
     ]
    }
   ],
   "source": [
    "# iterer sur les cles\n",
    "for i in inventaire : # retourne les cles\n",
    "    print(i)\n",
    "\n",
    "# iterer sur les valeurs\n",
    "for i in inventaire.values() : # retourne les valeurs\n",
    "    print(i)\n",
    "\n",
    "# iterer sur les deux\n",
    "for kle,valeur in inventaire.items() :\n",
    "    print(kle, valeur)"
   ]
  },
  {
   "cell_type": "code",
   "execution_count": 25,
   "metadata": {},
   "outputs": [
    {
     "name": "stdout",
     "output_type": "stream",
     "text": [
      "{'positif': [2, 4, 0], 'negatif': [-1, -2]}\n"
     ]
    }
   ],
   "source": [
    "# Exercice Video 5 \n",
    "# https://youtu.be/QR-gUWAeLqs\n",
    "\n",
    "classeur = {\n",
    "    \"positif\" : [],\n",
    "    \"negatif\" : []\n",
    "}\n",
    "\n",
    "def trier(classeur, nombre) :\n",
    "    if nombre >= 0 :\n",
    "        classeur[\"positif\"].append(nombre)\n",
    "    else :\n",
    "        classeur[\"negatif\"].append(nombre)\n",
    "\n",
    "trier(classeur=classeur, nombre=2)\n",
    "trier(classeur=classeur, nombre=4)\n",
    "trier(classeur=classeur, nombre= -1)\n",
    "trier(classeur=classeur, nombre=0)\n",
    "trier(classeur=classeur, nombre=-2)\n",
    "\n",
    "print(classeur)"
   ]
  },
  {
   "cell_type": "code",
   "execution_count": 26,
   "metadata": {},
   "outputs": [
    {
     "name": "stdout",
     "output_type": "stream",
     "text": [
      "[0, 1, 4, 9, 16, 25, 36, 49, 64, 81]\n"
     ]
    }
   ],
   "source": [
    "# LIST COMPREHENSION\n",
    "# Plus professionnel, en une ligne\n",
    "# Le processus de creation se fait plus rapidement\n",
    "liste_carres = [x**2 for x in range(10)]\n",
    "print(liste_carres)"
   ]
  },
  {
   "cell_type": "code",
   "execution_count": 27,
   "metadata": {},
   "outputs": [
    {
     "name": "stdout",
     "output_type": "stream",
     "text": [
      "[[0, 1, 2], [1, 2, 3], [2, 3, 4]]\n"
     ]
    }
   ],
   "source": [
    "nested_list_comprehension = [[i+j for i in range(3)] for j in range(3)]\n",
    "print(nested_list_comprehension)"
   ]
  },
  {
   "cell_type": "code",
   "execution_count": 28,
   "metadata": {},
   "outputs": [
    {
     "name": "stdout",
     "output_type": "stream",
     "text": [
      "{'0': 'Pierre', '1': 'Steve', '2': 'Jacques', '3': 'Herbert'}\n",
      "{0: 'Pierre', 1: 'Steve', 2: 'Jacques', 3: 'Herbert'}\n"
     ]
    }
   ],
   "source": [
    "# DICTIONNAIRE COMPREHENSION\n",
    "# Plus professionnel, en une ligne\n",
    "# Le processus de creation se fait plus rapidement\n",
    "dicodor = {\n",
    "    \"0\" :\"Pierre\",\n",
    "    \"1\" : \"Steve\",\n",
    "    \"2\" : \"Jacques\",\n",
    "    \"3\" : \"Herbert\"\n",
    "}\n",
    "print(dicodor)\n",
    "\n",
    "prenoms = [\"Pierre\", \"Steve\", \"Jacques\", \"Herbert\"]\n",
    "dico = {key:value for key, value in enumerate(prenoms)}\n",
    "print(dico)"
   ]
  },
  {
   "cell_type": "code",
   "execution_count": 29,
   "metadata": {},
   "outputs": [
    {
     "data": {
      "text/plain": [
       "dict_keys([0, 1, 2, 3])"
      ]
     },
     "execution_count": 29,
     "metadata": {},
     "output_type": "execute_result"
    }
   ],
   "source": [
    "dico.keys()"
   ]
  },
  {
   "cell_type": "code",
   "execution_count": 30,
   "metadata": {},
   "outputs": [
    {
     "name": "stdout",
     "output_type": "stream",
     "text": [
      "{'Pierre': 25, 'Steve': 30, 'Jacques': 45, 'Herbert': 67}\n"
     ]
    }
   ],
   "source": [
    "ages = [25, 30, 45, 67]\n",
    "dico2 = {prenom:age for prenom, age in zip(prenoms, ages)}\n",
    "print(dico2)"
   ]
  },
  {
   "cell_type": "code",
   "execution_count": 31,
   "metadata": {},
   "outputs": [
    {
     "name": "stdout",
     "output_type": "stream",
     "text": [
      "{'Jacques': 45, 'Herbert': 67}\n"
     ]
    }
   ],
   "source": [
    "dicovieux = {prenom:age for prenom, age in zip(prenoms, ages) if age > 30}\n",
    "print(dicovieux)"
   ]
  },
  {
   "cell_type": "code",
   "execution_count": 32,
   "metadata": {},
   "outputs": [
    {
     "name": "stdout",
     "output_type": "stream",
     "text": [
      "<generator object <genexpr> at 0x7fa2a510edd0>\n"
     ]
    }
   ],
   "source": [
    "# TUPLE COMPREHENSION\n",
    "tuple_1 = (i**2 for i in range(10))\n",
    "print(tuple_1)\n",
    "# ON VIENT DE CREER UN GENERATEUR"
   ]
  },
  {
   "cell_type": "code",
   "execution_count": 33,
   "metadata": {},
   "outputs": [
    {
     "name": "stdout",
     "output_type": "stream",
     "text": [
      "(0, 1, 4, 9, 16, 25, 36, 49, 64, 81)\n"
     ]
    }
   ],
   "source": [
    "# POUR CREER UN VERITABLE TUPLE\n",
    "tuple_1 = tuple((i**2 for i in range(10)))\n",
    "print(tuple_1)"
   ]
  },
  {
   "cell_type": "code",
   "execution_count": 34,
   "metadata": {},
   "outputs": [
    {
     "name": "stdout",
     "output_type": "stream",
     "text": [
      "{0: 0, 1: 1, 2: 4, 3: 9, 4: 16, 5: 25, 6: 36, 7: 49, 8: 64, 9: 81, 10: 100, 11: 121, 12: 144, 13: 169, 14: 196, 15: 225, 16: 256, 17: 289, 18: 324, 19: 361}\n"
     ]
    }
   ],
   "source": [
    "list_num = [i for i in range(20)]\n",
    "liste_carres = [x**2 for x in range(20)]\n",
    "exo_video_5 = {key:value for key, value in zip(list_num, liste_carres)}\n",
    "print(exo_video_5)"
   ]
  },
  {
   "cell_type": "code",
   "execution_count": 35,
   "metadata": {},
   "outputs": [
    {
     "name": "stdout",
     "output_type": "stream",
     "text": [
      "{0: 0, 1: 1, 2: 4, 3: 9, 4: 16, 5: 25, 6: 36, 7: 49, 8: 64, 9: 81, 10: 100, 11: 121, 12: 144, 13: 169, 14: 196, 15: 225, 16: 256, 17: 289, 18: 324, 19: 361}\n"
     ]
    }
   ],
   "source": [
    "exo_video_5 = {key:value for key, value in zip([i for i in range(20)], [x**2 for x in range(20)])}\n",
    "print(exo_video_5)"
   ]
  },
  {
   "cell_type": "code",
   "execution_count": 72,
   "metadata": {},
   "outputs": [
    {
     "name": "stdout",
     "output_type": "stream",
     "text": [
      "{'0': 0, '1': 1, '2': 4, '3': 9, '4': 16, '5': 25, '6': 36, '7': 49, '8': 64, '9': 81, '10': 100, '11': 121, '12': 144, '13': 169, '14': 196, '15': 225, '16': 256, '17': 289, '18': 324, '19': 361}\n"
     ]
    }
   ],
   "source": [
    "# Correction exo_video_5\n",
    "exo_video_5 = {str(k):k**2 for k in range(0,20)}\n",
    "print(exo_video_5)"
   ]
  },
  {
   "cell_type": "markdown",
   "metadata": {},
   "source": [
    "__J'ai gagne 0.2 seconde en ecrivant tout sur une seule ligne__\n",
    "\n",
    "__Son code gagne 0.2 seconde sur le miens. BG !__"
   ]
  },
  {
   "cell_type": "markdown",
   "metadata": {},
   "source": [
    "# FONCTIONS DE BASE DE PYTHON\n",
    "[Video 7](https://youtu.be/v7OTVy6whEY)\n",
    "\n",
    "[Python built-in functions](https://docs.python.org/3/library/functions.html)"
   ]
  },
  {
   "cell_type": "markdown",
   "metadata": {},
   "source": [
    "## Mathematiques & tris"
   ]
  },
  {
   "cell_type": "code",
   "execution_count": 37,
   "metadata": {},
   "outputs": [
    {
     "name": "stdout",
     "output_type": "stream",
     "text": [
      "Valeur absolue : 3\n",
      "Arrondi : -3\n"
     ]
    }
   ],
   "source": [
    "xv7 = -3\n",
    "yv7 =-3.2\n",
    "print(\"Valeur absolue :\", abs(xv7))\n",
    "print(\"Arrondi :\", round(yv7))\n"
   ]
  },
  {
   "cell_type": "code",
   "execution_count": 41,
   "metadata": {},
   "outputs": [
    {
     "name": "stdout",
     "output_type": "stream",
     "text": [
      "Max d'une liste : 32\n",
      "Min d'une liste : -7\n",
      "Somme d'une liste : 30\n",
      "LISTE\n",
      "All liste 2 : False\n",
      "Any liste 2  : True\n",
      "All liste 1 : False\n",
      "Any liste 1 : True\n"
     ]
    }
   ],
   "source": [
    "liste_1 = [1, 4, -7, 32, 0]\n",
    "liste_2 = [True, True, False, True]\n",
    "print(\"Max d'une liste :\", max(liste_1))\n",
    "print(\"Min d'une liste :\", min(liste_1))\n",
    "print(\"Somme d'une liste :\", sum(liste_1))\n",
    "print(\"LISTE\")\n",
    "# Retourne True quand tous les elements sont True\n",
    "print(\"All liste 2 :\", all(liste_2))\n",
    "# Retourne True quand un des elements sont True\n",
    "print(\"Any liste 2  :\", any(liste_2))\n",
    "# Retourne True quand tous les elements sont True (False si une valeur est egale a 0)\n",
    "print(\"All liste 1 :\", all(liste_1))\n",
    "# Retourne True quand un des elements sont True\n",
    "print(\"Any liste 1 :\", any(liste_1))"
   ]
  },
  {
   "cell_type": "code",
   "execution_count": 43,
   "metadata": {},
   "outputs": [
    {
     "name": "stdout",
     "output_type": "stream",
     "text": [
      "<class 'list'>\n",
      "(1, 4, -7, 32, 0)\n"
     ]
    }
   ],
   "source": [
    "print(type(liste_1))\n",
    "print(tuple(liste_1))"
   ]
  },
  {
   "cell_type": "markdown",
   "metadata": {},
   "source": [
    "Les fonction list(), tuple() ou dict(), permettent de convertir des elements sequences en d'autres. "
   ]
  },
  {
   "cell_type": "code",
   "execution_count": 45,
   "metadata": {},
   "outputs": [
    {
     "name": "stdout",
     "output_type": "stream",
     "text": [
      "['pommes', 'poires', 'scoubidou']\n"
     ]
    }
   ],
   "source": [
    "stocks = {\n",
    "    \"pommes\" : 23,\n",
    "    \"poires\" : 89,\n",
    "    \"scoubidou\" : 10\n",
    "}\n",
    "\n",
    "fruits_liste = list(stocks.keys())\n",
    "print(fruits_liste)"
   ]
  },
  {
   "cell_type": "code",
   "execution_count": 46,
   "metadata": {},
   "outputs": [
    {
     "name": "stdout",
     "output_type": "stream",
     "text": [
      "yes\n"
     ]
    }
   ],
   "source": [
    "resize = input('Do you want to resize the images ? (yes/no)')\n",
    "print(resize)"
   ]
  },
  {
   "cell_type": "markdown",
   "metadata": {},
   "source": [
    "## Strings"
   ]
  },
  {
   "cell_type": "code",
   "execution_count": 48,
   "metadata": {},
   "outputs": [
    {
     "name": "stdout",
     "output_type": "stream",
     "text": [
      "Il fait 25 degres a Paris\n",
      "Il fait 25 degres a Paris\n"
     ]
    }
   ],
   "source": [
    "x = 25\n",
    "ville = \"Paris\"\n",
    "print(\"Il fait {} degres a {}\".format(x, ville))\n",
    "print(f\"Il fait {x} degres a {ville}\")"
   ]
  },
  {
   "cell_type": "code",
   "execution_count": 50,
   "metadata": {},
   "outputs": [
    {
     "name": "stdout",
     "output_type": "stream",
     "text": [
      "couche 1\n",
      "[[ 0.07532319  0.19142718  0.26820501  0.44116558]\n",
      " [-0.55959943 -0.61946411 -0.02034162  1.69919588]]\n",
      "[[ 0.07532319  0.19142718  0.26820501  0.44116558]\n",
      " [-0.55959943 -0.61946411 -0.02034162  1.69919588]]\n",
      "[[ 0.07532319  0.19142718  0.26820501  0.44116558]\n",
      " [-0.55959943 -0.61946411 -0.02034162  1.69919588]]\n",
      "couche 2\n",
      "[[ 0.34519241  0.41862782]\n",
      " [-0.95198288  0.26245307]]\n",
      "[[ 0.34519241  0.41862782]\n",
      " [-0.95198288  0.26245307]]\n",
      "[[ 0.34519241  0.41862782]\n",
      " [-0.95198288  0.26245307]]\n"
     ]
    }
   ],
   "source": [
    "parametres = {\n",
    "    \"W1\" : np.random.randn(2 , 4),\n",
    "    \"b1\" : np.zeros((2, 1)),\n",
    "    \"W2\" : np.random.randn(2, 2),\n",
    "    \"b2\" : np.zeros((2, 1))\n",
    "}\n",
    "\n",
    "# Donne le W1 de la couche 1 & le W2 de la couche 2\n",
    "for i in range(1, 3) :\n",
    "    print(\"couche\", i)\n",
    "    print(parametres[\"W{}\".format(i)])\n",
    "    print(parametres[\"W\"+str(i)])\n",
    "    print(parametres[f\"W{i}\"])"
   ]
  },
  {
   "cell_type": "markdown",
   "metadata": {},
   "source": [
    "## Les fichiers\n",
    "\n",
    "mode a de open, permet de append a la fin."
   ]
  },
  {
   "cell_type": "code",
   "execution_count": 60,
   "metadata": {},
   "outputs": [],
   "source": [
    "f = open('fichier.txt', 'w')\n",
    "f.write(\"bonjour\")\n",
    "f.write(\"batard\")\n",
    "f.write(\"\\nbonjour\\nbatard\")\n",
    "f.close()"
   ]
  },
  {
   "cell_type": "code",
   "execution_count": 61,
   "metadata": {},
   "outputs": [
    {
     "data": {
      "text/plain": [
       "'bonjourbatard\\nbonjour\\nbatard'"
      ]
     },
     "execution_count": 61,
     "metadata": {},
     "output_type": "execute_result"
    }
   ],
   "source": [
    "f = open('fichier.txt', 'r')\n",
    "f.read()"
   ]
  },
  {
   "cell_type": "code",
   "execution_count": 62,
   "metadata": {},
   "outputs": [],
   "source": [
    "f.close()"
   ]
  },
  {
   "cell_type": "code",
   "execution_count": 64,
   "metadata": {},
   "outputs": [
    {
     "name": "stdout",
     "output_type": "stream",
     "text": [
      "bonjourbatard\n",
      "bonjour\n",
      "batard\n"
     ]
    }
   ],
   "source": [
    "with open('fichier.txt', 'r') as f :\n",
    "    print(f.read())\n"
   ]
  },
  {
   "cell_type": "code",
   "execution_count": 70,
   "metadata": {},
   "outputs": [],
   "source": [
    "with open('fichier.txt', 'a') as f :\n",
    "    for i in range(10) :\n",
    "        f.write(f\"\\n{i}^2 = {str(i**2)}\")\n"
   ]
  },
  {
   "cell_type": "code",
   "execution_count": 71,
   "metadata": {},
   "outputs": [
    {
     "name": "stdout",
     "output_type": "stream",
     "text": [
      "['bonjourbatard', 'bonjour', 'batard0149162536496481', '0', '1', '4', '9', '16', '25', '36', '49', '64', '81', '0 au carre = 0', '1 au carre = 1', '2 au carre = 4', '3 au carre = 9', '4 au carre = 16', '5 au carre = 25', '6 au carre = 36', '7 au carre = 49', '8 au carre = 64', '9 au carre = 81', '0^2 = 0', '1^2 = 1', '2^2 = 4', '3^2 = 9', '4^2 = 16', '5^2 = 25', '6^2 = 36', '7^2 = 49', '8^2 = 64', '9^2 = 81']\n"
     ]
    }
   ],
   "source": [
    "# Exercice video 7\n",
    "with open('fichier.txt', 'r') as f :\n",
    "    myliste = f.read().split('\\n')\n",
    "\n",
    "print(myliste)"
   ]
  },
  {
   "cell_type": "code",
   "execution_count": 112,
   "metadata": {},
   "outputs": [
    {
     "name": "stdout",
     "output_type": "stream",
     "text": [
      "['bonjourbatard\\n', 'bonjour\\n', 'batard0149162536496481\\n', '0\\n', '1\\n', '4\\n', '9\\n', '16\\n', '25\\n', '36\\n', '49\\n', '64\\n', '81\\n', '0 au carre = 0\\n', '1 au carre = 1\\n', '2 au carre = 4\\n', '3 au carre = 9\\n', '4 au carre = 16\\n', '5 au carre = 25\\n', '6 au carre = 36\\n', '7 au carre = 49\\n', '8 au carre = 64\\n', '9 au carre = 81\\n', '0^2 = 0\\n', '1^2 = 1\\n', '2^2 = 4\\n', '3^2 = 9\\n', '4^2 = 16\\n', '5^2 = 25\\n', '6^2 = 36\\n', '7^2 = 49\\n', '8^2 = 64\\n', '9^2 = 81']\n",
      "['bonjourbatard', 'bonjour', 'batard0149162536496481', '0', '1', '4', '9', '16', '25', '36', '49', '64', '81', '0 au carre = 0', '1 au carre = 1', '2 au carre = 4', '3 au carre = 9', '4 au carre = 16', '5 au carre = 25', '6 au carre = 36', '7 au carre = 49', '8 au carre = 64', '9 au carre = 81', '0^2 = 0', '1^2 = 1', '2^2 = 4', '3^2 = 9', '4^2 = 16', '5^2 = 25', '6^2 = 36', '7^2 = 49', '8^2 = 64', '9^2 = 81']\n",
      "['bonjourbatard', 'bonjour', 'batard0149162536496481', '0', '1', '4', '9', '16', '25', '36', '49', '64', '81', '0 au carre = 0', '1 au carre = 1', '2 au carre = 4', '3 au carre = 9', '4 au carre = 16', '5 au carre = 25', '6 au carre = 36', '7 au carre = 49', '8 au carre = 64', '9 au carre = 81', '0^2 = 0', '1^2 = 1', '2^2 = 4', '3^2 = 9', '4^2 = 16', '5^2 = 25', '6^2 = 36', '7^2 = 49', '8^2 = 64', '9^2 = 81']\n"
     ]
    }
   ],
   "source": [
    "# Correction exercice video 7\n",
    "# #1\n",
    "print('#1')\n",
    "with open('fichier.txt', 'r') as f :\n",
    "    myliste = f.readlines()\n",
    "\n",
    "print(myliste)\n",
    "\n",
    "# #2\n",
    "print('#2')\n",
    "with open('fichier.txt', 'r') as f :\n",
    "    myliste = f.read().splitlines()\n",
    "\n",
    "print(myliste)\n",
    "\n",
    "# #3\n",
    "print('#3')\n",
    "myliste = [line.strip() for line in open('fichier.txt', 'r')] # strip() permet de supprimer les fins de lignes\n",
    "print(myliste)"
   ]
  },
  {
   "cell_type": "markdown",
   "metadata": {},
   "source": [
    "__Son conseil de fin, c'est d'arreter de faire ma methode de feignasse, c'est-a-dire d'arreter de taper betement dans Google (ou Qwant) tous les bugs que j'ai, mais plutot de lire les documentations de reference et d'essayer de les comprendre...__"
   ]
  },
  {
   "cell_type": "markdown",
   "metadata": {},
   "source": [
    "# MODULES ET PACKAGES\n",
    "\n",
    "[Video 8](https://www.youtube.com/watch?v=mSh4h-J0z1c)\n",
    "\n",
    "Un module est un fichier python\n",
    "N.B : Le goto definition peut permettre de retrouver facilement un type (sans avoir a executer type())\n",
    "\n",
    "Le import from permet d'accelerer le code mais aussi de faire des references aux fonctions, sans appeler la classe au prealable. (import * permettrait la meme chose. Mais le code perdrait en lisibilite)\n",
    "\n",
    "[Python module index](https://docs.python.org/3/py-modindex.html)\n",
    "\n",
    "__Package = lot de modules__\n",
    "\n",
    "## Modules et package de datascience"
   ]
  },
  {
   "cell_type": "code",
   "execution_count": 9,
   "metadata": {},
   "outputs": [],
   "source": [
    "import math\n",
    "import random as rd\n",
    "import statistics as stat\n",
    "import os\n",
    "import glob"
   ]
  },
  {
   "cell_type": "code",
   "execution_count": 10,
   "metadata": {},
   "outputs": [
    {
     "name": "stdout",
     "output_type": "stream",
     "text": [
      "-1.0\n"
     ]
    }
   ],
   "source": [
    "print(math.cos(math.pi))"
   ]
  },
  {
   "cell_type": "code",
   "execution_count": 11,
   "metadata": {},
   "outputs": [
    {
     "name": "stdout",
     "output_type": "stream",
     "text": [
      "5.8\n",
      "240.7\n"
     ]
    }
   ],
   "source": [
    "liste_1 = [1, 5, 32, -9, 0]\n",
    "print(stat.mean(liste_1))\n",
    "print(stat.variance(liste_1))\n",
    "# Standard deviation = ecart type"
   ]
  },
  {
   "cell_type": "code",
   "execution_count": 13,
   "metadata": {},
   "outputs": [
    {
     "name": "stdout",
     "output_type": "stream",
     "text": [
      "1\n",
      "anne\n"
     ]
    }
   ],
   "source": [
    "print(rd.choice(liste_1))\n",
    "print(rd.choice(['jean', 'anne', 'mohamed']))"
   ]
  },
  {
   "cell_type": "code",
   "execution_count": 52,
   "metadata": {},
   "outputs": [
    {
     "name": "stdout",
     "output_type": "stream",
     "text": [
      "mohamed\n"
     ]
    }
   ],
   "source": [
    "# Permet d'orienter le resultat de la fonction random\n",
    "#rd.seed(0) # Permet de figer le resultat du random\n",
    "print(rd.choice(['jean', 'anne', 'mohamed']))"
   ]
  },
  {
   "cell_type": "code",
   "execution_count": 53,
   "metadata": {},
   "outputs": [
    {
     "name": "stdout",
     "output_type": "stream",
     "text": [
      "1\n",
      "0.3012676595157123\n",
      "0\n"
     ]
    }
   ],
   "source": [
    "print(rd.randint(0,20))\n",
    "print(rd.random())\n",
    "print(rd.randrange(0,10,2))"
   ]
  },
  {
   "cell_type": "code",
   "execution_count": 76,
   "metadata": {},
   "outputs": [
    {
     "name": "stdout",
     "output_type": "stream",
     "text": [
      "3\n",
      "4\n"
     ]
    }
   ],
   "source": [
    "# lancer de des\n",
    "print(rd.randrange(1,7))\n",
    "# lancer de des\n",
    "print(rd.randint(1,6))"
   ]
  },
  {
   "cell_type": "code",
   "execution_count": 58,
   "metadata": {},
   "outputs": [
    {
     "name": "stdout",
     "output_type": "stream",
     "text": [
      "['rachid', 'enzo']\n"
     ]
    }
   ],
   "source": [
    "# retourne un echantillon de k element parmis une population donnee \n",
    "print(rd.sample(population=['michel', 'jacquie', 'fatima', 'rachid', 'enzo','hans'], k=2))"
   ]
  },
  {
   "cell_type": "code",
   "execution_count": 65,
   "metadata": {},
   "outputs": [
    {
     "data": {
      "text/plain": [
       "[76, 68, 4, 25, 52, 37, 78, 33, 19, 88]"
      ]
     },
     "execution_count": 65,
     "metadata": {},
     "output_type": "execute_result"
    }
   ],
   "source": [
    "# dix nombre aleatoires entre 0 et 100\n",
    "rd.sample(population=range(100), k=10)"
   ]
  },
  {
   "cell_type": "code",
   "execution_count": 67,
   "metadata": {},
   "outputs": [
    {
     "data": {
      "text/plain": [
       "[40, 46, 17, 48, 58]"
      ]
     },
     "execution_count": 67,
     "metadata": {},
     "output_type": "execute_result"
    }
   ],
   "source": [
    "# dix nombre aleatoires entre 0 et 100\n",
    "rd.sample(population=range(100), k=rd.randrange(10))"
   ]
  },
  {
   "cell_type": "code",
   "execution_count": 80,
   "metadata": {},
   "outputs": [
    {
     "name": "stdout",
     "output_type": "stream",
     "text": [
      "[32, 0, 1, -9, 5]\n"
     ]
    }
   ],
   "source": [
    "rd.shuffle(liste_1)\n",
    "print(liste_1)"
   ]
  },
  {
   "cell_type": "markdown",
   "metadata": {},
   "source": [
    "## Fichiers"
   ]
  },
  {
   "cell_type": "code",
   "execution_count": 81,
   "metadata": {},
   "outputs": [
    {
     "name": "stdout",
     "output_type": "stream",
     "text": [
      "/home/maximorose/Github_repositories/machinelearnia\n"
     ]
    }
   ],
   "source": [
    "# donne l'adresse du repertoire courant (current working directory)\n",
    "print(os.getcwd())"
   ]
  },
  {
   "cell_type": "code",
   "execution_count": 91,
   "metadata": {},
   "outputs": [
    {
     "name": "stdout",
     "output_type": "stream",
     "text": [
      "['ml_python.py']\n",
      "['ml_python.py', 'ml_jupyter.ipynb']\n"
     ]
    }
   ],
   "source": [
    "# la fonction glob.glob retourne tous les noms des fichiers que l'on a\n",
    "print(glob.glob('*.py'))\n",
    "print(glob.glob('ml_*'))"
   ]
  },
  {
   "cell_type": "code",
   "execution_count": 111,
   "metadata": {},
   "outputs": [
    {
     "name": "stdout",
     "output_type": "stream",
     "text": [
      "['ml_python.py']\n",
      "['ml_python.py', 'fichier.txt', 'fruits.txt']\n",
      "['ml_python.py', 'fichier.txt', 'fruits.txt']\n"
     ]
    }
   ],
   "source": [
    "py_files = glob.glob('*.py')\n",
    "print(py_files)\n",
    "pytxt_files = py_files + (glob.glob('*.txt'))\n",
    "print(pytxt_files)\n",
    "# None type volontaire de glob\n",
    "pytxt_files += (glob.glob('*.JPG'))\n",
    "print(pytxt_files)\n",
    "# => sans impact sur la liste"
   ]
  },
  {
   "cell_type": "code",
   "execution_count": 90,
   "metadata": {},
   "outputs": [
    {
     "name": "stdout",
     "output_type": "stream",
     "text": [
      "['ml_python.py', 'ml_jupyter.ipynb', 'fichier.txt', 'assets', 'README.md']\n"
     ]
    }
   ],
   "source": [
    "print(glob.glob('*'))"
   ]
  },
  {
   "cell_type": "markdown",
   "metadata": {},
   "source": [
    "Creation d'un dictionnaire dont les cles sont les noms des fichiers et les valeurs associees, la liste de leurs lignes"
   ]
  },
  {
   "cell_type": "code",
   "execution_count": 118,
   "metadata": {},
   "outputs": [
    {
     "name": "stdout",
     "output_type": "stream",
     "text": [
      "['pommes', 'poires', 'abrictos']\n"
     ]
    }
   ],
   "source": [
    "filenames = glob.glob('*.txt')\n",
    "# Rappel exo precedent\n",
    "# myliste = [line.strip() for line in open('fichier.txt', 'r')] # strip() permet de supprimer les fins de lignes\n",
    "filecontents = [[line.strip() for line in open(file, 'r')] for file in filenames]\n",
    "# for file in filenames :\n",
    "#     with open(file, 'r') as f :\n",
    "#         # output_texts += f.read() + \" \"\n",
    "#         filecontent.append(f.read())\n",
    "output_texts = {filename : content for filename, content in zip(filenames, filecontents)}\n",
    "\n",
    "# Affiche le contenu d'un des fichiers au hasard, sur la base du dictionnaires qui a chaque nom de fichier associe un contenu\n",
    "print(output_texts[filenames[rd.randrange(0,len(filenames))]])\n",
    "\n",
    "# output_texts    "
   ]
  },
  {
   "cell_type": "code",
   "execution_count": null,
   "metadata": {},
   "outputs": [],
   "source": [
    "# correction\n",
    "filenames = glob.glob('*.txt')\n",
    "d = {}\n",
    "for file in filenames :\n",
    "    with open(file, 'r') as f :\n",
    "        d[file] = f.read().splitlines()"
   ]
  }
 ],
 "metadata": {
  "interpreter": {
   "hash": "0a5331cb55ab7294c1c0f98062dab8e6b66a268d94e6b66c26b729f5ce3bba9e"
  },
  "kernelspec": {
   "display_name": "Python 3.8.5 ('base')",
   "language": "python",
   "name": "python3"
  },
  "language_info": {
   "codemirror_mode": {
    "name": "ipython",
    "version": 3
   },
   "file_extension": ".py",
   "mimetype": "text/x-python",
   "name": "python",
   "nbconvert_exporter": "python",
   "pygments_lexer": "ipython3",
   "version": "3.8.5"
  },
  "orig_nbformat": 4
 },
 "nbformat": 4,
 "nbformat_minor": 2
}
