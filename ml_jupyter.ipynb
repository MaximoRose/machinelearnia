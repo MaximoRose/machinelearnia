{
 "cells": [
  {
   "cell_type": "markdown",
   "metadata": {},
   "source": [
    "# LISTES"
   ]
  },
  {
   "cell_type": "code",
   "execution_count": 23,
   "metadata": {},
   "outputs": [
    {
     "name": "stdout",
     "output_type": "stream",
     "text": [
      "['Paris', 'Berlin', 'Rome', 'Madrid', 'Dublin']\n"
     ]
    }
   ],
   "source": [
    "villes = ['Paris', 'Berlin', 'Rome', 'Madrid']\n",
    "villes.append('Dublin')\n",
    "print(villes)"
   ]
  },
  {
   "cell_type": "code",
   "execution_count": 24,
   "metadata": {},
   "outputs": [
    {
     "name": "stdout",
     "output_type": "stream",
     "text": [
      "['Paris', 'Berlin', 'Bruxelles', 'Rome', 'Madrid', 'Dublin']\n"
     ]
    }
   ],
   "source": [
    "villes.insert(2, 'Bruxelles')\n",
    "print(villes)"
   ]
  },
  {
   "cell_type": "code",
   "execution_count": 25,
   "metadata": {},
   "outputs": [
    {
     "name": "stdout",
     "output_type": "stream",
     "text": [
      "['Paris', 'Berlin', 'Bruxelles', 'Rome', 'Madrid', 'Dublin', 'Amsterdam', 'Londres']\n"
     ]
    }
   ],
   "source": [
    "villes2 = ['Amsterdam', 'Londres']\n",
    "villes.extend(villes2)\n",
    "print(villes)"
   ]
  },
  {
   "cell_type": "code",
   "execution_count": 26,
   "metadata": {},
   "outputs": [
    {
     "data": {
      "text/plain": [
       "8"
      ]
     },
     "execution_count": 26,
     "metadata": {},
     "output_type": "execute_result"
    }
   ],
   "source": [
    "len(villes)"
   ]
  },
  {
   "cell_type": "code",
   "execution_count": 27,
   "metadata": {},
   "outputs": [
    {
     "data": {
      "text/plain": [
       "['Amsterdam',\n",
       " 'Berlin',\n",
       " 'Bruxelles',\n",
       " 'Dublin',\n",
       " 'Londres',\n",
       " 'Madrid',\n",
       " 'Paris',\n",
       " 'Rome']"
      ]
     },
     "execution_count": 27,
     "metadata": {},
     "output_type": "execute_result"
    }
   ],
   "source": [
    "villes.sort()\n",
    "villes"
   ]
  },
  {
   "cell_type": "code",
   "execution_count": 28,
   "metadata": {},
   "outputs": [
    {
     "data": {
      "text/plain": [
       "['Rome',\n",
       " 'Paris',\n",
       " 'Madrid',\n",
       " 'Londres',\n",
       " 'Dublin',\n",
       " 'Bruxelles',\n",
       " 'Berlin',\n",
       " 'Amsterdam']"
      ]
     },
     "execution_count": 28,
     "metadata": {},
     "output_type": "execute_result"
    }
   ],
   "source": [
    "villes.sort(reverse=True)\n",
    "villes"
   ]
  },
  {
   "cell_type": "code",
   "execution_count": 29,
   "metadata": {},
   "outputs": [
    {
     "data": {
      "text/plain": [
       "1"
      ]
     },
     "execution_count": 29,
     "metadata": {},
     "output_type": "execute_result"
    }
   ],
   "source": [
    "villes.count('Paris')"
   ]
  },
  {
   "cell_type": "code",
   "execution_count": 30,
   "metadata": {},
   "outputs": [
    {
     "data": {
      "text/plain": [
       "2"
      ]
     },
     "execution_count": 30,
     "metadata": {},
     "output_type": "execute_result"
    }
   ],
   "source": [
    "villes.append('Paris')\n",
    "villes.count('Paris')"
   ]
  },
  {
   "cell_type": "code",
   "execution_count": 31,
   "metadata": {},
   "outputs": [],
   "source": [
    "# villes.clear()"
   ]
  },
  {
   "cell_type": "code",
   "execution_count": 32,
   "metadata": {},
   "outputs": [
    {
     "name": "stdout",
     "output_type": "stream",
     "text": [
      "Yes\n"
     ]
    }
   ],
   "source": [
    "if 'Paris' in villes :\n",
    "    print('Yes')"
   ]
  },
  {
   "cell_type": "code",
   "execution_count": 34,
   "metadata": {},
   "outputs": [
    {
     "name": "stdout",
     "output_type": "stream",
     "text": [
      "Rome\n",
      "Paris\n",
      "Madrid\n",
      "Londres\n",
      "Dublin\n",
      "Bruxelles\n",
      "Berlin\n",
      "Amsterdam\n",
      "Paris\n"
     ]
    }
   ],
   "source": [
    "for i in villes :\n",
    "    print(i)"
   ]
  },
  {
   "cell_type": "code",
   "execution_count": 35,
   "metadata": {},
   "outputs": [
    {
     "name": "stdout",
     "output_type": "stream",
     "text": [
      "(0, 'Rome')\n",
      "(1, 'Paris')\n",
      "(2, 'Madrid')\n",
      "(3, 'Londres')\n",
      "(4, 'Dublin')\n",
      "(5, 'Bruxelles')\n",
      "(6, 'Berlin')\n",
      "(7, 'Amsterdam')\n",
      "(8, 'Paris')\n"
     ]
    }
   ],
   "source": [
    "for i in enumerate(villes) :\n",
    "    print(i)"
   ]
  },
  {
   "cell_type": "code",
   "execution_count": 36,
   "metadata": {},
   "outputs": [
    {
     "name": "stdout",
     "output_type": "stream",
     "text": [
      "Rome 1\n",
      "Paris 2\n",
      "Madrid 3\n",
      "Londres 4\n",
      "Dublin 5\n"
     ]
    }
   ],
   "source": [
    "liste_2 = [1,2,3,4,5]\n",
    "\n",
    "# La boucle s'arrete avec la liste la plus courte\n",
    "for a, b in zip(villes, liste_2) :\n",
    "    print(a,b)"
   ]
  },
  {
   "cell_type": "code",
   "execution_count": null,
   "metadata": {},
   "outputs": [],
   "source": []
  },
  {
   "cell_type": "markdown",
   "metadata": {},
   "source": [
    "# DICTIONNAIRES"
   ]
  },
  {
   "cell_type": "code",
   "execution_count": 45,
   "metadata": {},
   "outputs": [],
   "source": [
    "dicoenfr = {\n",
    "    \"chien\" : \"dog\",\n",
    "    \"oiseau\" : \"bird\"\n",
    "}\n",
    "inventaire = {\n",
    "    \"poires\" : 4300,\n",
    "    \"cerises\" : 2400\n",
    "}"
   ]
  },
  {
   "cell_type": "markdown",
   "metadata": {},
   "source": [
    "En machine learning, certaines personnes utilisent des dictionnaires pour stocker les parametres de leurs reseaux de neurones"
   ]
  },
  {
   "cell_type": "code",
   "execution_count": 46,
   "metadata": {},
   "outputs": [],
   "source": [
    "import numpy as np  \n",
    "\n",
    "parametres = {\n",
    "    \"W1\" : np.random.rand(10 , 100),\n",
    "    \"b1\" : np.random.rand(10, 1),\n",
    "    \"W2\" : np.random.rand(10, 10),\n",
    "    \"b2\" : np.random.rand(10, 1)\n",
    "}"
   ]
  },
  {
   "cell_type": "code",
   "execution_count": 47,
   "metadata": {},
   "outputs": [
    {
     "data": {
      "text/plain": [
       "dict_values([4300, 2400])"
      ]
     },
     "execution_count": 47,
     "metadata": {},
     "output_type": "execute_result"
    }
   ],
   "source": [
    "inventaire.values()"
   ]
  },
  {
   "cell_type": "code",
   "execution_count": 48,
   "metadata": {},
   "outputs": [
    {
     "data": {
      "text/plain": [
       "dict_keys(['poires', 'cerises'])"
      ]
     },
     "execution_count": 48,
     "metadata": {},
     "output_type": "execute_result"
    }
   ],
   "source": [
    "inventaire.keys()"
   ]
  },
  {
   "cell_type": "code",
   "execution_count": 49,
   "metadata": {},
   "outputs": [
    {
     "data": {
      "text/plain": [
       "2"
      ]
     },
     "execution_count": 49,
     "metadata": {},
     "output_type": "execute_result"
    }
   ],
   "source": [
    "len(inventaire)"
   ]
  },
  {
   "cell_type": "code",
   "execution_count": 50,
   "metadata": {},
   "outputs": [
    {
     "name": "stdout",
     "output_type": "stream",
     "text": [
      "{'poires': 4300, 'cerises': 2400, 'pommes': 690}\n"
     ]
    }
   ],
   "source": [
    "inventaire[\"pommes\"] = 690\n",
    "print(inventaire)"
   ]
  },
  {
   "cell_type": "markdown",
   "metadata": {},
   "source": [
    "__Un dictionnaire n'est pas indexe__"
   ]
  },
  {
   "cell_type": "code",
   "execution_count": 52,
   "metadata": {},
   "outputs": [
    {
     "name": "stdout",
     "output_type": "stream",
     "text": [
      "None\n"
     ]
    }
   ],
   "source": [
    "# Au lieu de faire des try catch avec des keyerror\n",
    "print(inventaire.get(\"peches\"))"
   ]
  },
  {
   "cell_type": "code",
   "execution_count": 53,
   "metadata": {},
   "outputs": [
    {
     "name": "stdout",
     "output_type": "stream",
     "text": [
      "0\n"
     ]
    }
   ],
   "source": [
    "# Pour retourner une valeur par defaut, quand on ne trouve pas :\n",
    "print(inventaire.get(\"peches\", 0))"
   ]
  },
  {
   "cell_type": "code",
   "execution_count": 55,
   "metadata": {},
   "outputs": [
    {
     "data": {
      "text/plain": [
       "{'Rome': 'Rien a voir, frerot',\n",
       " 'Paris': 'Rien a voir, frerot',\n",
       " 'Madrid': 'Rien a voir, frerot',\n",
       " 'Londres': 'Rien a voir, frerot',\n",
       " 'Dublin': 'Rien a voir, frerot',\n",
       " 'Bruxelles': 'Rien a voir, frerot',\n",
       " 'Berlin': 'Rien a voir, frerot',\n",
       " 'Amsterdam': 'Rien a voir, frerot'}"
      ]
     },
     "execution_count": 55,
     "metadata": {},
     "output_type": "execute_result"
    }
   ],
   "source": [
    "# Pour rechercher dans un dictionnaire a partir d'une liste de termes : \n",
    "inventaire.fromkeys(villes, 'Rien a voir, frerot')"
   ]
  },
  {
   "cell_type": "code",
   "execution_count": 57,
   "metadata": {},
   "outputs": [
    {
     "data": {
      "text/plain": [
       "2400"
      ]
     },
     "execution_count": 57,
     "metadata": {},
     "output_type": "execute_result"
    }
   ],
   "source": [
    "nbcerise = inventaire.pop(\"cerises\")\n",
    "nbcerise"
   ]
  },
  {
   "cell_type": "code",
   "execution_count": 58,
   "metadata": {},
   "outputs": [
    {
     "name": "stdout",
     "output_type": "stream",
     "text": [
      "poires\n",
      "pommes\n",
      "4300\n",
      "690\n",
      "poires 4300\n",
      "pommes 690\n"
     ]
    }
   ],
   "source": [
    "# iterer sur les cles\n",
    "for i in inventaire : # retourne les cles\n",
    "    print(i)\n",
    "\n",
    "# iterer sur les valeurs\n",
    "for i in inventaire.values() : # retourne les valeurs\n",
    "    print(i)\n",
    "\n",
    "# iterer sur les deux\n",
    "for kle,valeur in inventaire.items() :\n",
    "    print(kle, valeur)"
   ]
  },
  {
   "cell_type": "code",
   "execution_count": 59,
   "metadata": {},
   "outputs": [
    {
     "name": "stdout",
     "output_type": "stream",
     "text": [
      "{'positif': [2, 4, 0], 'negatif': [-1, -2]}\n"
     ]
    }
   ],
   "source": [
    "# Exercice Video 5 \n",
    "# https://youtu.be/QR-gUWAeLqs\n",
    "\n",
    "classeur = {\n",
    "    \"positif\" : [],\n",
    "    \"negatif\" : []\n",
    "}\n",
    "\n",
    "def trier(classeur, nombre) :\n",
    "    if nombre >= 0 :\n",
    "        classeur[\"positif\"].append(nombre)\n",
    "    else :\n",
    "        classeur[\"negatif\"].append(nombre)\n",
    "\n",
    "trier(classeur=classeur, nombre=2)\n",
    "trier(classeur=classeur, nombre=4)\n",
    "trier(classeur=classeur, nombre= -1)\n",
    "trier(classeur=classeur, nombre=0)\n",
    "trier(classeur=classeur, nombre=-2)\n",
    "\n",
    "print(classeur)"
   ]
  },
  {
   "cell_type": "code",
   "execution_count": null,
   "metadata": {},
   "outputs": [],
   "source": []
  }
 ],
 "metadata": {
  "interpreter": {
   "hash": "0a5331cb55ab7294c1c0f98062dab8e6b66a268d94e6b66c26b729f5ce3bba9e"
  },
  "kernelspec": {
   "display_name": "Python 3.8.5 ('base')",
   "language": "python",
   "name": "python3"
  },
  "language_info": {
   "codemirror_mode": {
    "name": "ipython",
    "version": 3
   },
   "file_extension": ".py",
   "mimetype": "text/x-python",
   "name": "python",
   "nbconvert_exporter": "python",
   "pygments_lexer": "ipython3",
   "version": "3.8.5"
  },
  "orig_nbformat": 4
 },
 "nbformat": 4,
 "nbformat_minor": 2
}
