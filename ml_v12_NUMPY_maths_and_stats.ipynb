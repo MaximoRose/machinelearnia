{
 "cells": [
  {
   "cell_type": "markdown",
   "metadata": {},
   "source": [
    "- sum(), cumsum(), cumprod(), min(), max(), argmin(), argmax()\n",
    "- argsort()\n",
    "- corrcoef()\n",
    "- NaN corrections\n",
    "- algebre lineaire\n",
    "- standardiser une matrice"
   ]
  },
  {
   "cell_type": "markdown",
   "metadata": {},
   "source": [
    "# NUMPY STATS & MATHS\n",
    "\n",
    "[video 12](https://www.youtube.com/watch?v=RwFiNlL4Q8g)\n",
    "\n",
    "[methodes de ndarray](https://numpy.org/doc/stable/reference/arrays.ndarray.html)\n",
    "\n",
    "- sum() : Les sommes sur les axes \"sum(axis = x)\" seront determinantes\n",
    "- sort()\n",
    "- max()\n",
    "- min()\n",
    "- mean()\n",
    "\n",
    "__argmin()__ & __argmax()__ pour trouver nos __index de min() et de max()__"
   ]
  },
  {
   "cell_type": "code",
   "execution_count": 34,
   "metadata": {},
   "outputs": [
    {
     "name": "stdout",
     "output_type": "stream",
     "text": [
      "[[6 0 6 1 2]\n",
      " [7 0 2 0 2]\n",
      " [4 4 9 8 8]\n",
      " [8 2 9 6 9]\n",
      " [4 4 0 0 5]]\n",
      "106\n",
      "Somme ligne 1 :  15\n",
      "Asum(axis = 0) :  [29 10 26 15 26]\n",
      "Somme ligne 2 :  11\n",
      "sum(axis = 1) :  [15 11 33 34 13]\n",
      "Somme cumulee :  [  6   6  12  13  15  22  22  24  24  26  30  34  43  51  59  67  69  78\n",
      "  84  93  97 101 101 101 106]\n",
      "Somme cumulee, axe 0 : \n",
      " [[ 6  0  6  1  2]\n",
      " [13  0  8  1  4]\n",
      " [17  4 17  9 12]\n",
      " [25  6 26 15 21]\n",
      " [29 10 26 15 26]]\n",
      "Somme cumulee, axe 1 : \n",
      " [[ 6  6 12 13 15]\n",
      " [ 7  7  9  9 11]\n",
      " [ 4  8 17 25 33]\n",
      " [ 8 10 19 25 34]\n",
      " [ 4  8  8  8 13]]\n",
      "minimum axe 0 : \n",
      " [4 0 0 0 2]\n",
      "minimum axe 1 : \n",
      " [0 0 4 2 0]\n",
      "Index du minimum axe 0 : \n",
      " [2 0 4 1 0]\n",
      "Index du minimum axe 1 : \n",
      " [1 1 0 1 2]\n"
     ]
    }
   ],
   "source": [
    "import numpy as np\n",
    "\n",
    "A = np.random.randint(0, 10, (5, 5))\n",
    "print(A)\n",
    "print(A.sum())\n",
    "print(\"Somme ligne 1 : \", A[0].sum())\n",
    "print(\"Asum(axis = 0) : \",A.sum(axis=0)) # retourne une ligne avec la somme de chaque colonne comme cellule (array)\n",
    "print(\"Somme ligne 2 : \", A[1].sum())\n",
    "print(\"sum(axis = 1) : \",A.sum(axis=1)) # retourne une colonne avec la somme de chaque ligne comme cellule (array)\n",
    "print(\"Somme cumulee : \",A.cumsum())\n",
    "print(\"Somme cumulee, axe 0 : \\n\",A.cumsum(axis=0))\n",
    "print(\"Somme cumulee, axe 1 : \\n\",A.cumsum(axis=1)) \n",
    "#cumprod() fait le produit cumulee, comme cumsum la somme\n",
    "print(\"minimum axe 0 : \\n\",A.min(axis=0)) \n",
    "print(\"minimum axe 1 : \\n\",A.min(axis=1)) \n",
    "# Pour trouver la position du minimum\n",
    "print(\"Index du minimum axe 0 : \\n\",A.argmin(axis=0)) \n",
    "print(\"Index du minimum axe 1 : \\n\",A.argmin(axis=1)) \n",
    "# Si le nombre apparait deux fois, c'est le premier index qui est retournee"
   ]
  },
  {
   "cell_type": "markdown",
   "metadata": {},
   "source": [
    "## argsort"
   ]
  },
  {
   "cell_type": "code",
   "execution_count": 35,
   "metadata": {},
   "outputs": [
    {
     "name": "stdout",
     "output_type": "stream",
     "text": [
      "SUR UNE DIM\n",
      "argsort srta : \n",
      " [0 1 2 3]\n",
      "\n",
      "SUR DEUX DIM\n",
      "A = \n",
      " [[6 0 6 1 2]\n",
      " [7 0 2 0 2]\n",
      " [4 4 9 8 8]\n",
      " [8 2 9 6 9]\n",
      " [4 4 0 0 5]]\n",
      "argsort axe 0 : \n",
      " [[2 0 4 1 0]\n",
      " [4 1 1 4 1]\n",
      " [0 3 0 0 4]\n",
      " [1 2 2 3 2]\n",
      " [3 4 3 2 3]]\n",
      "argsort axe 1 : \n",
      " [[1 3 4 0 2]\n",
      " [1 3 2 4 0]\n",
      " [0 1 3 4 2]\n",
      " [1 3 0 2 4]\n",
      " [2 3 0 1 4]]\n"
     ]
    }
   ],
   "source": [
    "print(\"SUR UNE DIM\")\n",
    "srta = np.array([1,2,3,4])\n",
    "print(\"argsort srta : \\n\",srta.argsort()) \n",
    "print()\n",
    "print(\"SUR DEUX DIM\")\n",
    "print(\"A = \\n\", A)\n",
    "print(\"argsort axe 0 : \\n\",A.argsort(axis=0)) \n",
    "print(\"argsort axe 1 : \\n\",A.argsort(axis=1)) \n",
    "\n",
    "# retourne des array"
   ]
  },
  {
   "cell_type": "markdown",
   "metadata": {},
   "source": [
    "[numpy routine math](https://numpy.org/doc/stable/reference/routines.math.html)"
   ]
  },
  {
   "cell_type": "code",
   "execution_count": 36,
   "metadata": {},
   "outputs": [
    {
     "data": {
      "text/plain": [
       "array([[4.03428793e+02, 1.00000000e+00, 4.03428793e+02, 2.71828183e+00,\n",
       "        7.38905610e+00],\n",
       "       [1.09663316e+03, 1.00000000e+00, 7.38905610e+00, 1.00000000e+00,\n",
       "        7.38905610e+00],\n",
       "       [5.45981500e+01, 5.45981500e+01, 8.10308393e+03, 2.98095799e+03,\n",
       "        2.98095799e+03],\n",
       "       [2.98095799e+03, 7.38905610e+00, 8.10308393e+03, 4.03428793e+02,\n",
       "        8.10308393e+03],\n",
       "       [5.45981500e+01, 5.45981500e+01, 1.00000000e+00, 1.00000000e+00,\n",
       "        1.48413159e+02]])"
      ]
     },
     "execution_count": 36,
     "metadata": {},
     "output_type": "execute_result"
    }
   ],
   "source": [
    "np.exp(A)"
   ]
  },
  {
   "cell_type": "markdown",
   "metadata": {},
   "source": [
    "# Statistiques np\n"
   ]
  },
  {
   "cell_type": "code",
   "execution_count": 37,
   "metadata": {},
   "outputs": [
    {
     "data": {
      "text/plain": [
       "array([5.8, 2. , 5.2, 3. , 5.2])"
      ]
     },
     "execution_count": 37,
     "metadata": {},
     "output_type": "execute_result"
    }
   ],
   "source": [
    "A.mean(axis=0)"
   ]
  },
  {
   "cell_type": "code",
   "execution_count": 38,
   "metadata": {},
   "outputs": [
    {
     "name": "stdout",
     "output_type": "stream",
     "text": [
      "[1.6        1.78885438 3.65513338 3.34664011 2.92574777]\n",
      "[ 2.56  3.2  13.36 11.2   8.56]\n"
     ]
    }
   ],
   "source": [
    "# ecart type sur axe 0 \n",
    "print(A.std(axis=0))\n",
    "# ecart type sur axe 0\n",
    "print(A.var(axis=0))"
   ]
  },
  {
   "cell_type": "markdown",
   "metadata": {},
   "source": [
    "[numpy stats routines](https://numpy.org/doc/stable/reference/routines.statistics.html)"
   ]
  },
  {
   "cell_type": "code",
   "execution_count": 39,
   "metadata": {},
   "outputs": [
    {
     "name": "stdout",
     "output_type": "stream",
     "text": [
      "[[6 0 6 1 2]\n",
      " [7 0 2 0 2]\n",
      " [4 4 9 8 8]\n",
      " [8 2 9 6 9]\n",
      " [4 4 0 0 5]]\n"
     ]
    },
    {
     "data": {
      "text/plain": [
       "array([[ 1.        ,  0.77166375,  0.11010379,  0.71919495, -0.18350632],\n",
       "       [ 0.77166375,  1.        , -0.3842598 ,  0.5090986 ,  0.34075869],\n",
       "       [ 0.11010379, -0.3842598 ,  1.        ,  0.58421738, -0.59482759],\n",
       "       [ 0.71919495,  0.5090986 ,  0.58421738,  1.        , -0.11965898],\n",
       "       [-0.18350632,  0.34075869, -0.59482759, -0.11965898,  1.        ]])"
      ]
     },
     "execution_count": 39,
     "metadata": {},
     "output_type": "execute_result"
    }
   ],
   "source": [
    "print(A)\n",
    "# corrcoeff : correlation entre les differentes lignes ou les differentes colonnes qu'on a dans notre tableau  ; ou meme entre n'importe quel tableau\n",
    "np.corrcoef(A)"
   ]
  },
  {
   "cell_type": "markdown",
   "metadata": {},
   "source": [
    "Correlation de type\n",
    "\n",
    "|| L1L1 || L1L2 ||\n",
    "\n",
    "|| L2L1 || L2L2 ||"
   ]
  },
  {
   "cell_type": "code",
   "execution_count": 40,
   "metadata": {},
   "outputs": [
    {
     "data": {
      "text/plain": [
       "0.7716637473824918"
      ]
     },
     "execution_count": 40,
     "metadata": {},
     "output_type": "execute_result"
    }
   ],
   "source": [
    "# COEEF CORRELATION L1L2\n",
    "np.corrcoef(A)[0,1]"
   ]
  },
  {
   "cell_type": "code",
   "execution_count": 43,
   "metadata": {},
   "outputs": [
    {
     "name": "stdout",
     "output_type": "stream",
     "text": [
      "[[6 0 6 1 2]\n",
      " [7 0 2 0 2]\n",
      " [4 4 9 8 8]\n",
      " [8 2 9 6 9]\n",
      " [4 4 0 0 5]]\n"
     ]
    }
   ],
   "source": [
    "print(A)"
   ]
  },
  {
   "cell_type": "code",
   "execution_count": 41,
   "metadata": {},
   "outputs": [
    {
     "name": "stdout",
     "output_type": "stream",
     "text": [
      "(array([0, 1, 2, 4, 5, 6, 7, 8, 9]), array([5, 1, 4, 4, 1, 3, 1, 3, 3]))\n"
     ]
    }
   ],
   "source": [
    "# Retrouver le nombre de repetitions d'un entite\n",
    "print(np.unique(A, return_counts=True)) # retourne deux tableaux : les valeurs et leur compte\n"
   ]
  },
  {
   "cell_type": "code",
   "execution_count": 49,
   "metadata": {},
   "outputs": [
    {
     "name": "stdout",
     "output_type": "stream",
     "text": [
      "Count :  [5 1 4 4 1 3 1 3 3]\n",
      "La sequnce d'index pour trier count :  [1 4 6 5 7 8 2 3 0]\n"
     ]
    },
    {
     "data": {
      "text/plain": [
       "array([1, 5, 7, 6, 8, 9, 2, 4, 0])"
      ]
     },
     "execution_count": 49,
     "metadata": {},
     "output_type": "execute_result"
    }
   ],
   "source": [
    "values, counts = np.unique(A, return_counts=True)\n",
    "\n",
    "print(\"Count : \", counts)\n",
    "# les differents index si on veut trier counts\n",
    "print(\"La sequnce d'index pour trier count : \", counts.argsort())\n",
    "# ces index, on va les injecter dans le tableau values pour avoir les nombres des moins presents aux plus presents\n",
    "values[counts.argsort()]"
   ]
  },
  {
   "cell_type": "code",
   "execution_count": 50,
   "metadata": {},
   "outputs": [
    {
     "name": "stdout",
     "output_type": "stream",
     "text": [
      "Valeur 0 apparait 5 fois\n",
      "Valeur 1 apparait 1 fois\n",
      "Valeur 2 apparait 4 fois\n",
      "Valeur 4 apparait 4 fois\n",
      "Valeur 5 apparait 1 fois\n",
      "Valeur 6 apparait 3 fois\n",
      "Valeur 7 apparait 1 fois\n",
      "Valeur 8 apparait 3 fois\n",
      "Valeur 9 apparait 3 fois\n"
     ]
    }
   ],
   "source": [
    "for i,j in zip(values, counts) :\n",
    "    print(f\"Valeur {i} apparait {j} fois\")"
   ]
  },
  {
   "cell_type": "code",
   "execution_count": 51,
   "metadata": {},
   "outputs": [
    {
     "name": "stdout",
     "output_type": "stream",
     "text": [
      "Valeur 1 apparait 1 fois\n",
      "Valeur 5 apparait 1 fois\n",
      "Valeur 7 apparait 1 fois\n",
      "Valeur 6 apparait 3 fois\n",
      "Valeur 8 apparait 3 fois\n",
      "Valeur 9 apparait 3 fois\n",
      "Valeur 2 apparait 4 fois\n",
      "Valeur 4 apparait 4 fois\n",
      "Valeur 0 apparait 5 fois\n"
     ]
    }
   ],
   "source": [
    "for i,j in zip(values[counts.argsort()], counts[counts.argsort()]) :\n",
    "    print(f\"Valeur {i} apparait {j} fois\")"
   ]
  },
  {
   "cell_type": "markdown",
   "metadata": {},
   "source": [
    "## NAN correction\n",
    "__Not A Number__"
   ]
  },
  {
   "cell_type": "code",
   "execution_count": 52,
   "metadata": {},
   "outputs": [
    {
     "data": {
      "text/plain": [
       "array([[-2.05984089, -1.3819485 ,         nan,  1.05278168,  0.97484408],\n",
       "       [-0.93831097, -0.85423699,  0.58698556, -1.31964681,  0.41339696],\n",
       "       [ 0.11124807,  0.82941867, -0.21968378,  0.62027751, -0.273613  ],\n",
       "       [-0.30074845, -1.05476417, -1.44708908,  0.35189007,  0.80095663],\n",
       "       [-0.27932003,  0.90460093, -0.58279034,         nan,  0.19238938]])"
      ]
     },
     "execution_count": 52,
     "metadata": {},
     "output_type": "execute_result"
    }
   ],
   "source": [
    "A = np.random.randn(5, 5)\n",
    "A[0,2] = np.nan\n",
    "A[4, 3] = np.nan\n",
    "A"
   ]
  },
  {
   "cell_type": "code",
   "execution_count": 53,
   "metadata": {},
   "outputs": [
    {
     "data": {
      "text/plain": [
       "nan"
      ]
     },
     "execution_count": 53,
     "metadata": {},
     "output_type": "execute_result"
    }
   ],
   "source": [
    "A.mean()"
   ]
  },
  {
   "cell_type": "markdown",
   "metadata": {},
   "source": [
    "Toujours un peu filtrer, corriger notre datasset\n",
    "\n",
    "Mais il existe des fonctions speciales pour effectuer les fonctions de base tout en ignorant les entites nan\n",
    "\n",
    "- nanmean()\n",
    "- nanstd()\n",
    "- nanvar()"
   ]
  },
  {
   "cell_type": "code",
   "execution_count": 54,
   "metadata": {},
   "outputs": [
    {
     "data": {
      "text/plain": [
       "-0.168400150968888"
      ]
     },
     "execution_count": 54,
     "metadata": {},
     "output_type": "execute_result"
    }
   ],
   "source": [
    "np.nanmean(A)"
   ]
  },
  {
   "cell_type": "code",
   "execution_count": 57,
   "metadata": {},
   "outputs": [
    {
     "data": {
      "text/plain": [
       "0.08"
      ]
     },
     "execution_count": 57,
     "metadata": {},
     "output_type": "execute_result"
    }
   ],
   "source": [
    "np.isnan(A).sum()/A.size # estime la part de valeur nan, qui va donner la qualite du dataset"
   ]
  },
  {
   "cell_type": "code",
   "execution_count": 59,
   "metadata": {},
   "outputs": [
    {
     "data": {
      "text/plain": [
       "0"
      ]
     },
     "execution_count": 59,
     "metadata": {},
     "output_type": "execute_result"
    }
   ],
   "source": [
    "A[np.isnan(A)] = 0\n",
    "np.isnan(A).sum()"
   ]
  },
  {
   "cell_type": "markdown",
   "metadata": {},
   "source": [
    "# Algebre lineaire\n",
    "[Calcul du determinant d'un matrice, wikipedia](https://fr.wikipedia.org/wiki/Calcul_du_d%C3%A9terminant_d%27une_matrice)\n",
    "\n",
    "- la matrice doit etre carree\n",
    "- permet de savoir si la matrice est inversible\n",
    "\n",
    "__une matrice est inversible si et seulement si son déterminant est non nul__\n",
    "\n",
    "[Mode math determinant et matrice](https://www.methodemaths.fr/determinant_matrice/)\n",
    "\n",
    "Matrice 2x2 a,b ; c, d = ad - bc\n",
    "\n",
    "Cas particulier\n",
    "- matrice diagonale\n",
    "- matrice triagulaire superieure et inferieure\n",
    "On ne fait que multiplier les nombre de la diagonale\n",
    "\n",
    "\n",
    "MATRICE INVERSIBLE \n",
    "\n",
    "En mathématiques et plus particulièrement en algèbre linéaire, une matrice inversible (ou régulière ou encore non singulière) est une matrice carrée A pour laquelle il existe une matrice B de même taille n avec laquelle les produits AB et BA sont égaux à la matrice identité.\n",
    "\n",
    "    A B = B A = I n"
   ]
  },
  {
   "cell_type": "code",
   "execution_count": 60,
   "metadata": {},
   "outputs": [
    {
     "data": {
      "text/plain": [
       "array([[1., 1., 1.],\n",
       "       [1., 1., 1.]])"
      ]
     },
     "execution_count": 60,
     "metadata": {},
     "output_type": "execute_result"
    }
   ],
   "source": [
    "# EXERCICE VIDEO\n",
    "A = np.ones((2,3))\n",
    "B = np.ones((3, 2))\n",
    "A"
   ]
  },
  {
   "cell_type": "code",
   "execution_count": 61,
   "metadata": {},
   "outputs": [
    {
     "data": {
      "text/plain": [
       "array([[1., 1.],\n",
       "       [1., 1.],\n",
       "       [1., 1.]])"
      ]
     },
     "execution_count": 61,
     "metadata": {},
     "output_type": "execute_result"
    }
   ],
   "source": [
    "B"
   ]
  },
  {
   "cell_type": "code",
   "execution_count": 63,
   "metadata": {},
   "outputs": [
    {
     "data": {
      "text/plain": [
       "array([[1., 1.],\n",
       "       [1., 1.],\n",
       "       [1., 1.]])"
      ]
     },
     "execution_count": 63,
     "metadata": {},
     "output_type": "execute_result"
    }
   ],
   "source": [
    "# Transposer une matrice\n",
    "A.T"
   ]
  },
  {
   "cell_type": "code",
   "execution_count": 67,
   "metadata": {},
   "outputs": [
    {
     "name": "stdout",
     "output_type": "stream",
     "text": [
      "[[3. 3.]\n",
      " [3. 3.]]\n",
      "[[2. 2. 2.]\n",
      " [2. 2. 2.]\n",
      " [2. 2. 2.]]\n"
     ]
    }
   ],
   "source": [
    "# produit matriciel\n",
    "print(A.dot(B))\n",
    "print(B.dot(A))"
   ]
  },
  {
   "cell_type": "markdown",
   "metadata": {},
   "source": [
    "[numpy algebre lineaire](https://numpy.org/doc/stable/reference/routines.linalg.html)\n",
    "\n",
    "- Calculer un determinant\n",
    "- inverser une matrice\n",
    "- calculer les valeurs propres d'une matrice"
   ]
  },
  {
   "cell_type": "code",
   "execution_count": 69,
   "metadata": {},
   "outputs": [
    {
     "data": {
      "text/plain": [
       "2.0000000000000027"
      ]
     },
     "execution_count": 69,
     "metadata": {},
     "output_type": "execute_result"
    }
   ],
   "source": [
    "A = np.random.randint(0, 10, (3,3))\n",
    "np.linalg.det(A)"
   ]
  },
  {
   "cell_type": "code",
   "execution_count": 70,
   "metadata": {},
   "outputs": [
    {
     "data": {
      "text/plain": [
       "array([[ 1.00000000e+00, -5.00000000e-01, -7.40148683e-17],\n",
       "       [-2.50000000e+01,  1.70000000e+01, -2.00000000e+00],\n",
       "       [ 1.10000000e+01, -7.50000000e+00,  1.00000000e+00]])"
      ]
     },
     "execution_count": 70,
     "metadata": {},
     "output_type": "execute_result"
    }
   ],
   "source": [
    "np.linalg.inv(A)"
   ]
  },
  {
   "cell_type": "markdown",
   "metadata": {},
   "source": [
    "__p inverse, why ?__"
   ]
  },
  {
   "cell_type": "code",
   "execution_count": 71,
   "metadata": {},
   "outputs": [
    {
     "data": {
      "text/plain": [
       "array([[ 1.00000000e+00, -5.00000000e-01, -1.68007412e-15],\n",
       "       [-2.50000000e+01,  1.70000000e+01, -2.00000000e+00],\n",
       "       [ 1.10000000e+01, -7.50000000e+00,  1.00000000e+00]])"
      ]
     },
     "execution_count": 71,
     "metadata": {},
     "output_type": "execute_result"
    }
   ],
   "source": [
    "np.linalg.pinv(A)"
   ]
  },
  {
   "cell_type": "markdown",
   "metadata": {},
   "source": [
    "Le principal component analysis utilise les valeurs propres (eigen values)\n",
    "\n",
    "eigen vector = vecteur propre"
   ]
  },
  {
   "cell_type": "code",
   "execution_count": 72,
   "metadata": {},
   "outputs": [
    {
     "data": {
      "text/plain": [
       "(array([ 0.0537687 ,  3.15442407, 11.79180723]),\n",
       " array([[ 0.02595935, -0.49455239,  0.27487726],\n",
       "        [-0.91367464, -0.67554364,  0.50313279],\n",
       "        [ 0.40561652,  0.54686262,  0.81932893]]))"
      ]
     },
     "execution_count": 72,
     "metadata": {},
     "output_type": "execute_result"
    }
   ],
   "source": [
    "np.linalg.eig(A)"
   ]
  },
  {
   "cell_type": "markdown",
   "metadata": {},
   "source": [
    "# Exercice\n",
    "## Normaliser une matrice\n",
    "Standardiser les differentes colonnes : mettre sur une meme echelle toutes les colonnes et lignes.\n",
    "\n",
    "Plusieurs technique :\n",
    "- rescaling (min-max) : (A - min(A))/(max(A)-min(A))\n",
    "- mean normalization\n",
    "- etc.\n",
    "\n",
    "[Feature scaling](https://en.wikipedia.org/wiki/Feature_scaling)\n",
    "\n",
    "Nous, c'est la standardization, c'est : \n",
    "\n",
    "(A - barreA)/signa(A)\n",
    "\n",
    "avec barreA = averrage(A) et sigma(A) son ecart type\n",
    "\n",
    "Faire cette operation de standardization sur chaque colonne du tableau. Comme si on avait un dataset ou la colonne 1 c'est le prix de differents appartements, et la colonne 2 c'est la surface. On va vouloir la moyenne des prix et la moyenne des surfaces, de meme pour l'ecart-type. Puis on pourra standardiser ces deux colonnes, independamment l'une de l'autre."
   ]
  },
  {
   "cell_type": "code",
   "execution_count": 73,
   "metadata": {},
   "outputs": [
    {
     "data": {
      "text/plain": [
       "array([[44, 47, 64, 67, 67],\n",
       "       [ 9, 83, 21, 36, 87],\n",
       "       [70, 88, 88, 12, 58],\n",
       "       [65, 39, 87, 46, 88],\n",
       "       [81, 37, 25, 77, 72],\n",
       "       [ 9, 20, 80, 69, 79],\n",
       "       [47, 64, 82, 99, 88],\n",
       "       [49, 29, 19, 19, 14],\n",
       "       [39, 32, 65,  9, 57],\n",
       "       [32, 31, 74, 23, 35]])"
      ]
     },
     "execution_count": 73,
     "metadata": {},
     "output_type": "execute_result"
    }
   ],
   "source": [
    "np.random.seed(0)\n",
    "A = np.random.randint(0, 100, (10, 5))\n",
    "A"
   ]
  },
  {
   "cell_type": "markdown",
   "metadata": {},
   "source": [
    "### Standardization"
   ]
  },
  {
   "cell_type": "code",
   "execution_count": 77,
   "metadata": {},
   "outputs": [
    {
     "name": "stdout",
     "output_type": "stream",
     "text": [
      "[44.5 47.  60.5 45.7 64.5]\n",
      "[22.66384786 22.28003591 26.5678377  29.36341261 23.2432786 ]\n"
     ]
    },
    {
     "data": {
      "text/plain": [
       "array([[-0.02206157,  0.        ,  0.13173823,  0.72539252,  0.10755798],\n",
       "       [-1.56637126,  1.61579632, -1.48676006, -0.33034307,  0.96802178],\n",
       "       [ 1.12513992,  1.84021247,  1.03508612, -1.14768676, -0.27965074],\n",
       "       [ 0.90452425, -0.35906585,  0.99744662,  0.0102168 ,  1.01104497],\n",
       "       [ 1.6104944 , -0.44883231, -1.33620208,  1.0659524 ,  0.32267393],\n",
       "       [-1.56637126, -1.21184724,  0.73397016,  0.7935045 ,  0.62383626],\n",
       "       [ 0.11030784,  0.76301493,  0.80924915,  1.81518411,  1.01104497],\n",
       "       [ 0.1985541 , -0.80789816, -1.56203905, -0.90929485, -2.17267111],\n",
       "       [-0.24267724, -0.67324847,  0.16937773, -1.24985473, -0.32267393],\n",
       "       [-0.55153918, -0.7181317 ,  0.50813319, -0.77307091, -1.26918412]])"
      ]
     },
     "execution_count": 77,
     "metadata": {},
     "output_type": "execute_result"
    }
   ],
   "source": [
    "ar_mean = np.mean(A, axis=0)\n",
    "print(ar_mean)\n",
    "ar_std = np.std(A, axis=0)\n",
    "print(ar_std)\n",
    "B = (A - ar_mean)/ar_std\n",
    "B"
   ]
  },
  {
   "cell_type": "markdown",
   "metadata": {},
   "source": [
    "- La moyenne de chaque colonne est egal a 0 (tend vers 0 pour etre precis)\n",
    "- L'ecart-type de chaque colonne est egal a 1 \n",
    "\n",
    "Chaque colonne soit une distribution normale quasiment parfaite"
   ]
  },
  {
   "cell_type": "markdown",
   "metadata": {},
   "source": [
    "Correction : il le fait en une ligne, D = (A - A.mean(axis = 0))/A.std(axis = 0)"
   ]
  }
 ],
 "metadata": {
  "interpreter": {
   "hash": "0a5331cb55ab7294c1c0f98062dab8e6b66a268d94e6b66c26b729f5ce3bba9e"
  },
  "kernelspec": {
   "display_name": "Python 3.8.5 ('base')",
   "language": "python",
   "name": "python3"
  },
  "language_info": {
   "codemirror_mode": {
    "name": "ipython",
    "version": 3
   },
   "file_extension": ".py",
   "mimetype": "text/x-python",
   "name": "python",
   "nbconvert_exporter": "python",
   "pygments_lexer": "ipython3",
   "version": "3.8.5"
  },
  "orig_nbformat": 4
 },
 "nbformat": 4,
 "nbformat_minor": 2
}
